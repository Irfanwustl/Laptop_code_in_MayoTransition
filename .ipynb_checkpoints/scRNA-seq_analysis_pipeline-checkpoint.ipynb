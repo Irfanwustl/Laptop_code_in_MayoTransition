{
 "cells": [
  {
   "cell_type": "code",
   "execution_count": 1,
   "metadata": {},
   "outputs": [],
   "source": [
    "import scanpy as sc"
   ]
  },
  {
   "cell_type": "code",
   "execution_count": 68,
   "metadata": {},
   "outputs": [],
   "source": [
    "sc_folder = 'raw_counts'"
   ]
  },
  {
   "cell_type": "code",
   "execution_count": 2,
   "metadata": {},
   "outputs": [
    {
     "data": {
      "text/plain": [
       "AnnData object with n_obs × n_vars = 6099 × 34546"
      ]
     },
     "execution_count": 2,
     "metadata": {},
     "output_type": "execute_result"
    }
   ],
   "source": [
    "adata = sc.read_csv(sc_folder+'/GSM5226574_C51ctr_raw_counts.csv').T\n",
    "adata"
   ]
  },
  {
   "cell_type": "code",
   "execution_count": 3,
   "metadata": {},
   "outputs": [
    {
     "data": {
      "text/plain": [
       "(6099, 34546)"
      ]
     },
     "execution_count": 3,
     "metadata": {},
     "output_type": "execute_result"
    }
   ],
   "source": [
    "adata.X.shape"
   ]
  },
  {
   "cell_type": "markdown",
   "metadata": {},
   "source": [
    "# Doublet removal - optional but preferred"
   ]
  },
  {
   "cell_type": "code",
   "execution_count": 4,
   "metadata": {},
   "outputs": [],
   "source": [
    "#!pip install scvi-tools"
   ]
  },
  {
   "cell_type": "code",
   "execution_count": 5,
   "metadata": {},
   "outputs": [
    {
     "name": "stderr",
     "output_type": "stream",
     "text": [
      "Global seed set to 0\n",
      "/home/ialahi/anaconda3/lib/python3.7/site-packages/pytorch_lightning/utilities/warnings.py:54: LightningDeprecationWarning: pytorch_lightning.utilities.warnings.rank_zero_deprecation has been deprecated in v1.6 and will be removed in v1.8. Use the equivalent function from the pytorch_lightning.utilities.rank_zero module instead.\n",
      "  \"pytorch_lightning.utilities.warnings.rank_zero_deprecation has been deprecated in v1.6\"\n",
      "/home/ialahi/anaconda3/lib/python3.7/site-packages/pytorch_lightning/utilities/warnings.py:58: LightningDeprecationWarning: The `pytorch_lightning.loggers.base.rank_zero_experiment` is deprecated in v1.7 and will be removed in v1.9. Please use `pytorch_lightning.loggers.logger.rank_zero_experiment` instead.\n",
      "  return new_rank_zero_deprecation(*args, **kwargs)\n"
     ]
    }
   ],
   "source": [
    "import scvi"
   ]
  },
  {
   "cell_type": "code",
   "execution_count": 6,
   "metadata": {},
   "outputs": [
    {
     "data": {
      "text/plain": [
       "AnnData object with n_obs × n_vars = 6099 × 34546"
      ]
     },
     "execution_count": 6,
     "metadata": {},
     "output_type": "execute_result"
    }
   ],
   "source": [
    "adata"
   ]
  },
  {
   "cell_type": "code",
   "execution_count": 7,
   "metadata": {},
   "outputs": [],
   "source": [
    "sc.pp.filter_genes(adata, min_cells = 10)"
   ]
  },
  {
   "cell_type": "code",
   "execution_count": 8,
   "metadata": {},
   "outputs": [],
   "source": [
    "sc.pp.highly_variable_genes(adata, n_top_genes = 2000, subset = True, flavor = 'seurat_v3')"
   ]
  },
  {
   "cell_type": "code",
   "execution_count": 9,
   "metadata": {},
   "outputs": [
    {
     "name": "stderr",
     "output_type": "stream",
     "text": [
      "WARNING:jax._src.lib.xla_bridge:No GPU/TPU found, falling back to CPU. (Set TF_CPP_MIN_LOG_LEVEL=0 and rerun for more info.)\n",
      "GPU available: False, used: False\n",
      "TPU available: False, using: 0 TPU cores\n",
      "IPU available: False, using: 0 IPUs\n",
      "HPU available: False, using: 0 HPUs\n"
     ]
    },
    {
     "name": "stdout",
     "output_type": "stream",
     "text": [
      "Epoch 400/400: 100%|██████████| 400/400 [10:32<00:00,  1.49s/it, loss=320, v_num=1]"
     ]
    },
    {
     "name": "stderr",
     "output_type": "stream",
     "text": [
      "`Trainer.fit` stopped: `max_epochs=400` reached.\n"
     ]
    },
    {
     "name": "stdout",
     "output_type": "stream",
     "text": [
      "Epoch 400/400: 100%|██████████| 400/400 [10:32<00:00,  1.58s/it, loss=320, v_num=1]\n"
     ]
    }
   ],
   "source": [
    "scvi.model.SCVI.setup_anndata(adata)\n",
    "vae = scvi.model.SCVI(adata)\n",
    "vae.train()"
   ]
  },
  {
   "cell_type": "code",
   "execution_count": 10,
   "metadata": {},
   "outputs": [
    {
     "name": "stdout",
     "output_type": "stream",
     "text": [
      "\u001b[34mINFO    \u001b[0m Creating doublets, preparing SOLO model.                                                                  \n"
     ]
    },
    {
     "name": "stderr",
     "output_type": "stream",
     "text": [
      "/home/ialahi/anaconda3/lib/python3.7/site-packages/anndata/_core/anndata.py:1785: FutureWarning: X.dtype being converted to np.float32 from float64. In the next version of anndata (0.9) conversion will not be automatic. Pass dtype explicitly to avoid this warning. Pass `AnnData(X, dtype=X.dtype, ...)` to get the future behavour.\n",
      "  [AnnData(sparse.csr_matrix(a.shape), obs=a.obs) for a in all_adatas],\n",
      "GPU available: False, used: False\n",
      "TPU available: False, using: 0 TPU cores\n",
      "IPU available: False, using: 0 IPUs\n",
      "HPU available: False, using: 0 HPUs\n"
     ]
    },
    {
     "name": "stdout",
     "output_type": "stream",
     "text": [
      "Epoch 167/400:  42%|████▏     | 167/400 [02:19<03:14,  1.20it/s, loss=0.287, v_num=1]\n",
      "Monitored metric validation_loss did not improve in the last 30 records. Best score: 0.308. Signaling Trainer to stop.\n"
     ]
    }
   ],
   "source": [
    "solo = scvi.external.SOLO.from_scvi_model(vae)\n",
    "solo.train()"
   ]
  },
  {
   "cell_type": "code",
   "execution_count": 11,
   "metadata": {},
   "outputs": [
    {
     "data": {
      "text/html": [
       "<div>\n",
       "<style scoped>\n",
       "    .dataframe tbody tr th:only-of-type {\n",
       "        vertical-align: middle;\n",
       "    }\n",
       "\n",
       "    .dataframe tbody tr th {\n",
       "        vertical-align: top;\n",
       "    }\n",
       "\n",
       "    .dataframe thead th {\n",
       "        text-align: right;\n",
       "    }\n",
       "</style>\n",
       "<table border=\"1\" class=\"dataframe\">\n",
       "  <thead>\n",
       "    <tr style=\"text-align: right;\">\n",
       "      <th></th>\n",
       "      <th>doublet</th>\n",
       "      <th>singlet</th>\n",
       "      <th>prediction</th>\n",
       "    </tr>\n",
       "  </thead>\n",
       "  <tbody>\n",
       "    <tr>\n",
       "      <th>TAGGTACCATGGCCAC-1_1</th>\n",
       "      <td>1.262331</td>\n",
       "      <td>-2.463733</td>\n",
       "      <td>doublet</td>\n",
       "    </tr>\n",
       "    <tr>\n",
       "      <th>ATTCACTGTAACAGGC-1_1</th>\n",
       "      <td>1.609750</td>\n",
       "      <td>-2.561475</td>\n",
       "      <td>doublet</td>\n",
       "    </tr>\n",
       "    <tr>\n",
       "      <th>TAACTTCCAACCACGC-1_1</th>\n",
       "      <td>0.116738</td>\n",
       "      <td>-0.561727</td>\n",
       "      <td>doublet</td>\n",
       "    </tr>\n",
       "    <tr>\n",
       "      <th>TTGGGTACACGACAAG-1_1</th>\n",
       "      <td>0.514089</td>\n",
       "      <td>-1.576378</td>\n",
       "      <td>doublet</td>\n",
       "    </tr>\n",
       "    <tr>\n",
       "      <th>AGGCCACAGAGTCACG-1_1</th>\n",
       "      <td>0.624447</td>\n",
       "      <td>-1.915478</td>\n",
       "      <td>doublet</td>\n",
       "    </tr>\n",
       "    <tr>\n",
       "      <th>...</th>\n",
       "      <td>...</td>\n",
       "      <td>...</td>\n",
       "      <td>...</td>\n",
       "    </tr>\n",
       "    <tr>\n",
       "      <th>CGCCATTGTTTGCCGG-1_1</th>\n",
       "      <td>-1.976327</td>\n",
       "      <td>1.519354</td>\n",
       "      <td>singlet</td>\n",
       "    </tr>\n",
       "    <tr>\n",
       "      <th>CACTGGGGTCTACGTA-1_1</th>\n",
       "      <td>-3.345993</td>\n",
       "      <td>3.377463</td>\n",
       "      <td>singlet</td>\n",
       "    </tr>\n",
       "    <tr>\n",
       "      <th>CATACTTGTAGAGGAA-1_1</th>\n",
       "      <td>-2.516743</td>\n",
       "      <td>2.691032</td>\n",
       "      <td>singlet</td>\n",
       "    </tr>\n",
       "    <tr>\n",
       "      <th>TTTGGTTTCCACGGAC-1_1</th>\n",
       "      <td>-1.979219</td>\n",
       "      <td>2.530496</td>\n",
       "      <td>singlet</td>\n",
       "    </tr>\n",
       "    <tr>\n",
       "      <th>ATGCATGAGTCATGAA-1_1</th>\n",
       "      <td>-1.796686</td>\n",
       "      <td>1.881644</td>\n",
       "      <td>singlet</td>\n",
       "    </tr>\n",
       "  </tbody>\n",
       "</table>\n",
       "<p>6099 rows × 3 columns</p>\n",
       "</div>"
      ],
      "text/plain": [
       "                       doublet   singlet prediction\n",
       "TAGGTACCATGGCCAC-1_1  1.262331 -2.463733    doublet\n",
       "ATTCACTGTAACAGGC-1_1  1.609750 -2.561475    doublet\n",
       "TAACTTCCAACCACGC-1_1  0.116738 -0.561727    doublet\n",
       "TTGGGTACACGACAAG-1_1  0.514089 -1.576378    doublet\n",
       "AGGCCACAGAGTCACG-1_1  0.624447 -1.915478    doublet\n",
       "...                        ...       ...        ...\n",
       "CGCCATTGTTTGCCGG-1_1 -1.976327  1.519354    singlet\n",
       "CACTGGGGTCTACGTA-1_1 -3.345993  3.377463    singlet\n",
       "CATACTTGTAGAGGAA-1_1 -2.516743  2.691032    singlet\n",
       "TTTGGTTTCCACGGAC-1_1 -1.979219  2.530496    singlet\n",
       "ATGCATGAGTCATGAA-1_1 -1.796686  1.881644    singlet\n",
       "\n",
       "[6099 rows x 3 columns]"
      ]
     },
     "execution_count": 11,
     "metadata": {},
     "output_type": "execute_result"
    }
   ],
   "source": [
    "df = solo.predict()\n",
    "df['prediction'] = solo.predict(soft = False)\n",
    "df.index = df.index.map(lambda x: x[:-2])\n",
    "\n",
    "df\n"
   ]
  },
  {
   "cell_type": "code",
   "execution_count": 12,
   "metadata": {
    "scrolled": true
   },
   "outputs": [
    {
     "data": {
      "text/html": [
       "<div>\n",
       "<style scoped>\n",
       "    .dataframe tbody tr th:only-of-type {\n",
       "        vertical-align: middle;\n",
       "    }\n",
       "\n",
       "    .dataframe tbody tr th {\n",
       "        vertical-align: top;\n",
       "    }\n",
       "\n",
       "    .dataframe thead th {\n",
       "        text-align: right;\n",
       "    }\n",
       "</style>\n",
       "<table border=\"1\" class=\"dataframe\">\n",
       "  <thead>\n",
       "    <tr style=\"text-align: right;\">\n",
       "      <th></th>\n",
       "      <th>doublet</th>\n",
       "      <th>singlet</th>\n",
       "    </tr>\n",
       "    <tr>\n",
       "      <th>prediction</th>\n",
       "      <th></th>\n",
       "      <th></th>\n",
       "    </tr>\n",
       "  </thead>\n",
       "  <tbody>\n",
       "    <tr>\n",
       "      <th>doublet</th>\n",
       "      <td>1383</td>\n",
       "      <td>1383</td>\n",
       "    </tr>\n",
       "    <tr>\n",
       "      <th>singlet</th>\n",
       "      <td>4716</td>\n",
       "      <td>4716</td>\n",
       "    </tr>\n",
       "  </tbody>\n",
       "</table>\n",
       "</div>"
      ],
      "text/plain": [
       "            doublet  singlet\n",
       "prediction                  \n",
       "doublet        1383     1383\n",
       "singlet        4716     4716"
      ]
     },
     "execution_count": 12,
     "metadata": {},
     "output_type": "execute_result"
    }
   ],
   "source": [
    "df.groupby('prediction').count()"
   ]
  },
  {
   "cell_type": "code",
   "execution_count": 13,
   "metadata": {},
   "outputs": [
    {
     "data": {
      "text/html": [
       "<div>\n",
       "<style scoped>\n",
       "    .dataframe tbody tr th:only-of-type {\n",
       "        vertical-align: middle;\n",
       "    }\n",
       "\n",
       "    .dataframe tbody tr th {\n",
       "        vertical-align: top;\n",
       "    }\n",
       "\n",
       "    .dataframe thead th {\n",
       "        text-align: right;\n",
       "    }\n",
       "</style>\n",
       "<table border=\"1\" class=\"dataframe\">\n",
       "  <thead>\n",
       "    <tr style=\"text-align: right;\">\n",
       "      <th></th>\n",
       "      <th>doublet</th>\n",
       "      <th>singlet</th>\n",
       "      <th>prediction</th>\n",
       "      <th>dif</th>\n",
       "    </tr>\n",
       "  </thead>\n",
       "  <tbody>\n",
       "    <tr>\n",
       "      <th>TAGGTACCATGGCCAC-1_1</th>\n",
       "      <td>1.262331</td>\n",
       "      <td>-2.463733</td>\n",
       "      <td>doublet</td>\n",
       "      <td>3.726063</td>\n",
       "    </tr>\n",
       "    <tr>\n",
       "      <th>ATTCACTGTAACAGGC-1_1</th>\n",
       "      <td>1.609750</td>\n",
       "      <td>-2.561475</td>\n",
       "      <td>doublet</td>\n",
       "      <td>4.171225</td>\n",
       "    </tr>\n",
       "    <tr>\n",
       "      <th>TAACTTCCAACCACGC-1_1</th>\n",
       "      <td>0.116738</td>\n",
       "      <td>-0.561727</td>\n",
       "      <td>doublet</td>\n",
       "      <td>0.678465</td>\n",
       "    </tr>\n",
       "    <tr>\n",
       "      <th>TTGGGTACACGACAAG-1_1</th>\n",
       "      <td>0.514089</td>\n",
       "      <td>-1.576378</td>\n",
       "      <td>doublet</td>\n",
       "      <td>2.090467</td>\n",
       "    </tr>\n",
       "    <tr>\n",
       "      <th>AGGCCACAGAGTCACG-1_1</th>\n",
       "      <td>0.624447</td>\n",
       "      <td>-1.915478</td>\n",
       "      <td>doublet</td>\n",
       "      <td>2.539925</td>\n",
       "    </tr>\n",
       "    <tr>\n",
       "      <th>...</th>\n",
       "      <td>...</td>\n",
       "      <td>...</td>\n",
       "      <td>...</td>\n",
       "      <td>...</td>\n",
       "    </tr>\n",
       "    <tr>\n",
       "      <th>CGCCATTGTTTGCCGG-1_1</th>\n",
       "      <td>-1.976327</td>\n",
       "      <td>1.519354</td>\n",
       "      <td>singlet</td>\n",
       "      <td>-3.495681</td>\n",
       "    </tr>\n",
       "    <tr>\n",
       "      <th>CACTGGGGTCTACGTA-1_1</th>\n",
       "      <td>-3.345993</td>\n",
       "      <td>3.377463</td>\n",
       "      <td>singlet</td>\n",
       "      <td>-6.723456</td>\n",
       "    </tr>\n",
       "    <tr>\n",
       "      <th>CATACTTGTAGAGGAA-1_1</th>\n",
       "      <td>-2.516743</td>\n",
       "      <td>2.691032</td>\n",
       "      <td>singlet</td>\n",
       "      <td>-5.207775</td>\n",
       "    </tr>\n",
       "    <tr>\n",
       "      <th>TTTGGTTTCCACGGAC-1_1</th>\n",
       "      <td>-1.979219</td>\n",
       "      <td>2.530496</td>\n",
       "      <td>singlet</td>\n",
       "      <td>-4.509715</td>\n",
       "    </tr>\n",
       "    <tr>\n",
       "      <th>ATGCATGAGTCATGAA-1_1</th>\n",
       "      <td>-1.796686</td>\n",
       "      <td>1.881644</td>\n",
       "      <td>singlet</td>\n",
       "      <td>-3.678330</td>\n",
       "    </tr>\n",
       "  </tbody>\n",
       "</table>\n",
       "<p>6099 rows × 4 columns</p>\n",
       "</div>"
      ],
      "text/plain": [
       "                       doublet   singlet prediction       dif\n",
       "TAGGTACCATGGCCAC-1_1  1.262331 -2.463733    doublet  3.726063\n",
       "ATTCACTGTAACAGGC-1_1  1.609750 -2.561475    doublet  4.171225\n",
       "TAACTTCCAACCACGC-1_1  0.116738 -0.561727    doublet  0.678465\n",
       "TTGGGTACACGACAAG-1_1  0.514089 -1.576378    doublet  2.090467\n",
       "AGGCCACAGAGTCACG-1_1  0.624447 -1.915478    doublet  2.539925\n",
       "...                        ...       ...        ...       ...\n",
       "CGCCATTGTTTGCCGG-1_1 -1.976327  1.519354    singlet -3.495681\n",
       "CACTGGGGTCTACGTA-1_1 -3.345993  3.377463    singlet -6.723456\n",
       "CATACTTGTAGAGGAA-1_1 -2.516743  2.691032    singlet -5.207775\n",
       "TTTGGTTTCCACGGAC-1_1 -1.979219  2.530496    singlet -4.509715\n",
       "ATGCATGAGTCATGAA-1_1 -1.796686  1.881644    singlet -3.678330\n",
       "\n",
       "[6099 rows x 4 columns]"
      ]
     },
     "execution_count": 13,
     "metadata": {},
     "output_type": "execute_result"
    }
   ],
   "source": [
    "df['dif'] = df.doublet - df.singlet\n",
    "df"
   ]
  },
  {
   "cell_type": "code",
   "execution_count": 14,
   "metadata": {},
   "outputs": [],
   "source": [
    "#!pip install seaborn --upgrade"
   ]
  },
  {
   "cell_type": "code",
   "execution_count": 15,
   "metadata": {},
   "outputs": [],
   "source": [
    "import seaborn as sns"
   ]
  },
  {
   "cell_type": "code",
   "execution_count": 16,
   "metadata": {},
   "outputs": [
    {
     "name": "stdout",
     "output_type": "stream",
     "text": [
      "0.12.2\n"
     ]
    }
   ],
   "source": [
    "print(sns.__version__)"
   ]
  },
  {
   "cell_type": "code",
   "execution_count": 17,
   "metadata": {
    "scrolled": true
   },
   "outputs": [
    {
     "data": {
      "text/plain": [
       "<seaborn.axisgrid.FacetGrid at 0x7f9e4d6d8150>"
      ]
     },
     "execution_count": 17,
     "metadata": {},
     "output_type": "execute_result"
    },
    {
     "data": {
      "image/png": "[encoded data removed]",
      "text/plain": [
       "<Figure size 360x360 with 1 Axes>"
      ]
     },
     "metadata": {
      "needs_background": "light"
     },
     "output_type": "display_data"
    }
   ],
   "source": [
    "sns.displot(df[df.prediction == 'doublet'], x = 'dif')"
   ]
  },
  {
   "cell_type": "code",
   "execution_count": 18,
   "metadata": {},
   "outputs": [
    {
     "data": {
      "text/html": [
       "<div>\n",
       "<style scoped>\n",
       "    .dataframe tbody tr th:only-of-type {\n",
       "        vertical-align: middle;\n",
       "    }\n",
       "\n",
       "    .dataframe tbody tr th {\n",
       "        vertical-align: top;\n",
       "    }\n",
       "\n",
       "    .dataframe thead th {\n",
       "        text-align: right;\n",
       "    }\n",
       "</style>\n",
       "<table border=\"1\" class=\"dataframe\">\n",
       "  <thead>\n",
       "    <tr style=\"text-align: right;\">\n",
       "      <th></th>\n",
       "      <th>doublet</th>\n",
       "      <th>singlet</th>\n",
       "      <th>prediction</th>\n",
       "      <th>dif</th>\n",
       "    </tr>\n",
       "  </thead>\n",
       "  <tbody>\n",
       "    <tr>\n",
       "      <th>TAGGTACCATGGCCAC-1_1</th>\n",
       "      <td>1.262331</td>\n",
       "      <td>-2.463733</td>\n",
       "      <td>doublet</td>\n",
       "      <td>3.726063</td>\n",
       "    </tr>\n",
       "    <tr>\n",
       "      <th>ATTCACTGTAACAGGC-1_1</th>\n",
       "      <td>1.609750</td>\n",
       "      <td>-2.561475</td>\n",
       "      <td>doublet</td>\n",
       "      <td>4.171225</td>\n",
       "    </tr>\n",
       "    <tr>\n",
       "      <th>TTGGGTACACGACAAG-1_1</th>\n",
       "      <td>0.514089</td>\n",
       "      <td>-1.576378</td>\n",
       "      <td>doublet</td>\n",
       "      <td>2.090467</td>\n",
       "    </tr>\n",
       "    <tr>\n",
       "      <th>AGGCCACAGAGTCACG-1_1</th>\n",
       "      <td>0.624447</td>\n",
       "      <td>-1.915478</td>\n",
       "      <td>doublet</td>\n",
       "      <td>2.539925</td>\n",
       "    </tr>\n",
       "    <tr>\n",
       "      <th>CACTGAAGTCGAAGCA-1_1</th>\n",
       "      <td>0.396275</td>\n",
       "      <td>-1.750297</td>\n",
       "      <td>doublet</td>\n",
       "      <td>2.146572</td>\n",
       "    </tr>\n",
       "    <tr>\n",
       "      <th>...</th>\n",
       "      <td>...</td>\n",
       "      <td>...</td>\n",
       "      <td>...</td>\n",
       "      <td>...</td>\n",
       "    </tr>\n",
       "    <tr>\n",
       "      <th>ATCAGGTGTCGTCTCT-1_1</th>\n",
       "      <td>0.898163</td>\n",
       "      <td>-0.632307</td>\n",
       "      <td>doublet</td>\n",
       "      <td>1.530470</td>\n",
       "    </tr>\n",
       "    <tr>\n",
       "      <th>TACAACGGTTGACTAC-1_1</th>\n",
       "      <td>0.855358</td>\n",
       "      <td>-0.594784</td>\n",
       "      <td>doublet</td>\n",
       "      <td>1.450142</td>\n",
       "    </tr>\n",
       "    <tr>\n",
       "      <th>CAACAACAGGTGCTTT-1_1</th>\n",
       "      <td>0.912825</td>\n",
       "      <td>-1.247215</td>\n",
       "      <td>doublet</td>\n",
       "      <td>2.160041</td>\n",
       "    </tr>\n",
       "    <tr>\n",
       "      <th>CATCCCAAGACGCCAA-1_1</th>\n",
       "      <td>0.849833</td>\n",
       "      <td>-0.874870</td>\n",
       "      <td>doublet</td>\n",
       "      <td>1.724703</td>\n",
       "    </tr>\n",
       "    <tr>\n",
       "      <th>CACTGTCAGGGACAGG-1_1</th>\n",
       "      <td>0.975839</td>\n",
       "      <td>-0.998289</td>\n",
       "      <td>doublet</td>\n",
       "      <td>1.974128</td>\n",
       "    </tr>\n",
       "  </tbody>\n",
       "</table>\n",
       "<p>557 rows × 4 columns</p>\n",
       "</div>"
      ],
      "text/plain": [
       "                       doublet   singlet prediction       dif\n",
       "TAGGTACCATGGCCAC-1_1  1.262331 -2.463733    doublet  3.726063\n",
       "ATTCACTGTAACAGGC-1_1  1.609750 -2.561475    doublet  4.171225\n",
       "TTGGGTACACGACAAG-1_1  0.514089 -1.576378    doublet  2.090467\n",
       "AGGCCACAGAGTCACG-1_1  0.624447 -1.915478    doublet  2.539925\n",
       "CACTGAAGTCGAAGCA-1_1  0.396275 -1.750297    doublet  2.146572\n",
       "...                        ...       ...        ...       ...\n",
       "ATCAGGTGTCGTCTCT-1_1  0.898163 -0.632307    doublet  1.530470\n",
       "TACAACGGTTGACTAC-1_1  0.855358 -0.594784    doublet  1.450142\n",
       "CAACAACAGGTGCTTT-1_1  0.912825 -1.247215    doublet  2.160041\n",
       "CATCCCAAGACGCCAA-1_1  0.849833 -0.874870    doublet  1.724703\n",
       "CACTGTCAGGGACAGG-1_1  0.975839 -0.998289    doublet  1.974128\n",
       "\n",
       "[557 rows x 4 columns]"
      ]
     },
     "execution_count": 18,
     "metadata": {},
     "output_type": "execute_result"
    }
   ],
   "source": [
    "doublets = df[(df.prediction == 'doublet') & (df.dif > 1)]\n",
    "doublets"
   ]
  },
  {
   "cell_type": "code",
   "execution_count": 19,
   "metadata": {},
   "outputs": [
    {
     "data": {
      "text/html": [
       "<div>\n",
       "<style scoped>\n",
       "    .dataframe tbody tr th:only-of-type {\n",
       "        vertical-align: middle;\n",
       "    }\n",
       "\n",
       "    .dataframe tbody tr th {\n",
       "        vertical-align: top;\n",
       "    }\n",
       "\n",
       "    .dataframe thead th {\n",
       "        text-align: right;\n",
       "    }\n",
       "</style>\n",
       "<table border=\"1\" class=\"dataframe\">\n",
       "  <thead>\n",
       "    <tr style=\"text-align: right;\">\n",
       "      <th></th>\n",
       "      <th>_scvi_batch</th>\n",
       "      <th>_scvi_labels</th>\n",
       "      <th>doublet</th>\n",
       "    </tr>\n",
       "  </thead>\n",
       "  <tbody>\n",
       "    <tr>\n",
       "      <th>TAGGTACCATGGCCAC-1_1</th>\n",
       "      <td>0</td>\n",
       "      <td>0</td>\n",
       "      <td>True</td>\n",
       "    </tr>\n",
       "    <tr>\n",
       "      <th>ATTCACTGTAACAGGC-1_1</th>\n",
       "      <td>0</td>\n",
       "      <td>0</td>\n",
       "      <td>True</td>\n",
       "    </tr>\n",
       "    <tr>\n",
       "      <th>TAACTTCCAACCACGC-1_1</th>\n",
       "      <td>0</td>\n",
       "      <td>0</td>\n",
       "      <td>False</td>\n",
       "    </tr>\n",
       "    <tr>\n",
       "      <th>TTGGGTACACGACAAG-1_1</th>\n",
       "      <td>0</td>\n",
       "      <td>0</td>\n",
       "      <td>True</td>\n",
       "    </tr>\n",
       "    <tr>\n",
       "      <th>AGGCCACAGAGTCACG-1_1</th>\n",
       "      <td>0</td>\n",
       "      <td>0</td>\n",
       "      <td>True</td>\n",
       "    </tr>\n",
       "    <tr>\n",
       "      <th>...</th>\n",
       "      <td>...</td>\n",
       "      <td>...</td>\n",
       "      <td>...</td>\n",
       "    </tr>\n",
       "    <tr>\n",
       "      <th>CGCCATTGTTTGCCGG-1_1</th>\n",
       "      <td>0</td>\n",
       "      <td>0</td>\n",
       "      <td>False</td>\n",
       "    </tr>\n",
       "    <tr>\n",
       "      <th>CACTGGGGTCTACGTA-1_1</th>\n",
       "      <td>0</td>\n",
       "      <td>0</td>\n",
       "      <td>False</td>\n",
       "    </tr>\n",
       "    <tr>\n",
       "      <th>CATACTTGTAGAGGAA-1_1</th>\n",
       "      <td>0</td>\n",
       "      <td>0</td>\n",
       "      <td>False</td>\n",
       "    </tr>\n",
       "    <tr>\n",
       "      <th>TTTGGTTTCCACGGAC-1_1</th>\n",
       "      <td>0</td>\n",
       "      <td>0</td>\n",
       "      <td>False</td>\n",
       "    </tr>\n",
       "    <tr>\n",
       "      <th>ATGCATGAGTCATGAA-1_1</th>\n",
       "      <td>0</td>\n",
       "      <td>0</td>\n",
       "      <td>False</td>\n",
       "    </tr>\n",
       "  </tbody>\n",
       "</table>\n",
       "<p>6099 rows × 3 columns</p>\n",
       "</div>"
      ],
      "text/plain": [
       "                      _scvi_batch  _scvi_labels  doublet\n",
       "TAGGTACCATGGCCAC-1_1            0             0     True\n",
       "ATTCACTGTAACAGGC-1_1            0             0     True\n",
       "TAACTTCCAACCACGC-1_1            0             0    False\n",
       "TTGGGTACACGACAAG-1_1            0             0     True\n",
       "AGGCCACAGAGTCACG-1_1            0             0     True\n",
       "...                           ...           ...      ...\n",
       "CGCCATTGTTTGCCGG-1_1            0             0    False\n",
       "CACTGGGGTCTACGTA-1_1            0             0    False\n",
       "CATACTTGTAGAGGAA-1_1            0             0    False\n",
       "TTTGGTTTCCACGGAC-1_1            0             0    False\n",
       "ATGCATGAGTCATGAA-1_1            0             0    False\n",
       "\n",
       "[6099 rows x 3 columns]"
      ]
     },
     "execution_count": 19,
     "metadata": {},
     "output_type": "execute_result"
    }
   ],
   "source": [
    "adata.obs['doublet'] = adata.obs.index.isin(doublets.index)\n",
    "adata.obs"
   ]
  },
  {
   "cell_type": "code",
   "execution_count": 20,
   "metadata": {},
   "outputs": [],
   "source": [
    "adata = adata[~adata.obs.doublet]"
   ]
  },
  {
   "cell_type": "code",
   "execution_count": 21,
   "metadata": {},
   "outputs": [
    {
     "data": {
      "text/plain": [
       "View of AnnData object with n_obs × n_vars = 5542 × 2000\n",
       "    obs: '_scvi_batch', '_scvi_labels', 'doublet'\n",
       "    var: 'n_cells', 'highly_variable', 'highly_variable_rank', 'means', 'variances', 'variances_norm'\n",
       "    uns: 'hvg', '_scvi_uuid', '_scvi_manager_uuid'"
      ]
     },
     "execution_count": 21,
     "metadata": {},
     "output_type": "execute_result"
    }
   ],
   "source": [
    "adata"
   ]
  },
  {
   "cell_type": "markdown",
   "metadata": {},
   "source": [
    "# Preprocessing"
   ]
  },
  {
   "cell_type": "code",
   "execution_count": 22,
   "metadata": {},
   "outputs": [
    {
     "name": "stderr",
     "output_type": "stream",
     "text": [
      "/home/ialahi/anaconda3/lib/python3.7/site-packages/ipykernel_launcher.py:1: ImplicitModificationWarning: Trying to modify attribute `.var` of view, initializing view as actual.\n",
      "  \"\"\"Entry point for launching an IPython kernel.\n"
     ]
    },
    {
     "data": {
      "text/html": [
       "<div>\n",
       "<style scoped>\n",
       "    .dataframe tbody tr th:only-of-type {\n",
       "        vertical-align: middle;\n",
       "    }\n",
       "\n",
       "    .dataframe tbody tr th {\n",
       "        vertical-align: top;\n",
       "    }\n",
       "\n",
       "    .dataframe thead th {\n",
       "        text-align: right;\n",
       "    }\n",
       "</style>\n",
       "<table border=\"1\" class=\"dataframe\">\n",
       "  <thead>\n",
       "    <tr style=\"text-align: right;\">\n",
       "      <th></th>\n",
       "      <th>n_cells</th>\n",
       "      <th>highly_variable</th>\n",
       "      <th>highly_variable_rank</th>\n",
       "      <th>means</th>\n",
       "      <th>variances</th>\n",
       "      <th>variances_norm</th>\n",
       "      <th>mt</th>\n",
       "    </tr>\n",
       "  </thead>\n",
       "  <tbody>\n",
       "    <tr>\n",
       "      <th>TTLL10</th>\n",
       "      <td>112</td>\n",
       "      <td>True</td>\n",
       "      <td>903.0</td>\n",
       "      <td>0.028857</td>\n",
       "      <td>0.069354</td>\n",
       "      <td>1.901045</td>\n",
       "      <td>False</td>\n",
       "    </tr>\n",
       "    <tr>\n",
       "      <th>TNFRSF18</th>\n",
       "      <td>15</td>\n",
       "      <td>True</td>\n",
       "      <td>1604.0</td>\n",
       "      <td>0.002951</td>\n",
       "      <td>0.004911</td>\n",
       "      <td>1.513808</td>\n",
       "      <td>False</td>\n",
       "    </tr>\n",
       "    <tr>\n",
       "      <th>CFAP74</th>\n",
       "      <td>159</td>\n",
       "      <td>True</td>\n",
       "      <td>1370.0</td>\n",
       "      <td>0.041154</td>\n",
       "      <td>0.087024</td>\n",
       "      <td>1.607399</td>\n",
       "      <td>False</td>\n",
       "    </tr>\n",
       "    <tr>\n",
       "      <th>TTC34</th>\n",
       "      <td>209</td>\n",
       "      <td>True</td>\n",
       "      <td>245.0</td>\n",
       "      <td>0.080341</td>\n",
       "      <td>0.363502</td>\n",
       "      <td>3.044086</td>\n",
       "      <td>False</td>\n",
       "    </tr>\n",
       "    <tr>\n",
       "      <th>AJAP1</th>\n",
       "      <td>31</td>\n",
       "      <td>True</td>\n",
       "      <td>1922.0</td>\n",
       "      <td>0.006886</td>\n",
       "      <td>0.011432</td>\n",
       "      <td>1.421002</td>\n",
       "      <td>False</td>\n",
       "    </tr>\n",
       "    <tr>\n",
       "      <th>...</th>\n",
       "      <td>...</td>\n",
       "      <td>...</td>\n",
       "      <td>...</td>\n",
       "      <td>...</td>\n",
       "      <td>...</td>\n",
       "      <td>...</td>\n",
       "      <td>...</td>\n",
       "    </tr>\n",
       "    <tr>\n",
       "      <th>MT-ND4L</th>\n",
       "      <td>650</td>\n",
       "      <td>True</td>\n",
       "      <td>1212.0</td>\n",
       "      <td>0.191671</td>\n",
       "      <td>0.559353</td>\n",
       "      <td>1.695637</td>\n",
       "      <td>True</td>\n",
       "    </tr>\n",
       "    <tr>\n",
       "      <th>MT-ND4</th>\n",
       "      <td>1328</td>\n",
       "      <td>True</td>\n",
       "      <td>178.0</td>\n",
       "      <td>0.833087</td>\n",
       "      <td>9.742224</td>\n",
       "      <td>3.486984</td>\n",
       "      <td>True</td>\n",
       "    </tr>\n",
       "    <tr>\n",
       "      <th>MT-ND5</th>\n",
       "      <td>886</td>\n",
       "      <td>True</td>\n",
       "      <td>443.0</td>\n",
       "      <td>0.332514</td>\n",
       "      <td>1.669344</td>\n",
       "      <td>2.430210</td>\n",
       "      <td>True</td>\n",
       "    </tr>\n",
       "    <tr>\n",
       "      <th>MT-ND6</th>\n",
       "      <td>821</td>\n",
       "      <td>True</td>\n",
       "      <td>123.0</td>\n",
       "      <td>0.383178</td>\n",
       "      <td>3.357087</td>\n",
       "      <td>3.985056</td>\n",
       "      <td>True</td>\n",
       "    </tr>\n",
       "    <tr>\n",
       "      <th>MT-CYB</th>\n",
       "      <td>1295</td>\n",
       "      <td>True</td>\n",
       "      <td>414.0</td>\n",
       "      <td>0.622397</td>\n",
       "      <td>4.384615</td>\n",
       "      <td>2.487058</td>\n",
       "      <td>True</td>\n",
       "    </tr>\n",
       "  </tbody>\n",
       "</table>\n",
       "<p>2000 rows × 7 columns</p>\n",
       "</div>"
      ],
      "text/plain": [
       "          n_cells  highly_variable  highly_variable_rank     means  variances  \\\n",
       "TTLL10        112             True                 903.0  0.028857   0.069354   \n",
       "TNFRSF18       15             True                1604.0  0.002951   0.004911   \n",
       "CFAP74        159             True                1370.0  0.041154   0.087024   \n",
       "TTC34         209             True                 245.0  0.080341   0.363502   \n",
       "AJAP1          31             True                1922.0  0.006886   0.011432   \n",
       "...           ...              ...                   ...       ...        ...   \n",
       "MT-ND4L       650             True                1212.0  0.191671   0.559353   \n",
       "MT-ND4       1328             True                 178.0  0.833087   9.742224   \n",
       "MT-ND5        886             True                 443.0  0.332514   1.669344   \n",
       "MT-ND6        821             True                 123.0  0.383178   3.357087   \n",
       "MT-CYB       1295             True                 414.0  0.622397   4.384615   \n",
       "\n",
       "          variances_norm     mt  \n",
       "TTLL10          1.901045  False  \n",
       "TNFRSF18        1.513808  False  \n",
       "CFAP74          1.607399  False  \n",
       "TTC34           3.044086  False  \n",
       "AJAP1           1.421002  False  \n",
       "...                  ...    ...  \n",
       "MT-ND4L         1.695637   True  \n",
       "MT-ND4          3.486984   True  \n",
       "MT-ND5          2.430210   True  \n",
       "MT-ND6          3.985056   True  \n",
       "MT-CYB          2.487058   True  \n",
       "\n",
       "[2000 rows x 7 columns]"
      ]
     },
     "execution_count": 22,
     "metadata": {},
     "output_type": "execute_result"
    }
   ],
   "source": [
    "adata.var['mt'] = adata.var.index.str.startswith('MT-')\n",
    "adata.var"
   ]
  },
  {
   "cell_type": "code",
   "execution_count": 23,
   "metadata": {},
   "outputs": [],
   "source": [
    "import pandas as pd"
   ]
  },
  {
   "cell_type": "code",
   "execution_count": 24,
   "metadata": {},
   "outputs": [],
   "source": [
    "ribo_url = \"http://software.broadinstitute.org/gsea/msigdb/download_geneset.jsp?geneSetName=KEGG_RIBOSOME&fileType=txt\""
   ]
  },
  {
   "cell_type": "code",
   "execution_count": 25,
   "metadata": {},
   "outputs": [
    {
     "data": {
      "text/html": [
       "<div>\n",
       "<style scoped>\n",
       "    .dataframe tbody tr th:only-of-type {\n",
       "        vertical-align: middle;\n",
       "    }\n",
       "\n",
       "    .dataframe tbody tr th {\n",
       "        vertical-align: top;\n",
       "    }\n",
       "\n",
       "    .dataframe thead th {\n",
       "        text-align: right;\n",
       "    }\n",
       "</style>\n",
       "<table border=\"1\" class=\"dataframe\">\n",
       "  <thead>\n",
       "    <tr style=\"text-align: right;\">\n",
       "      <th></th>\n",
       "      <th>0</th>\n",
       "    </tr>\n",
       "  </thead>\n",
       "  <tbody>\n",
       "    <tr>\n",
       "      <th>0</th>\n",
       "      <td>FAU</td>\n",
       "    </tr>\n",
       "    <tr>\n",
       "      <th>1</th>\n",
       "      <td>MRPL13</td>\n",
       "    </tr>\n",
       "    <tr>\n",
       "      <th>2</th>\n",
       "      <td>RPL10</td>\n",
       "    </tr>\n",
       "    <tr>\n",
       "      <th>3</th>\n",
       "      <td>RPL10A</td>\n",
       "    </tr>\n",
       "    <tr>\n",
       "      <th>4</th>\n",
       "      <td>RPL10L</td>\n",
       "    </tr>\n",
       "    <tr>\n",
       "      <th>...</th>\n",
       "      <td>...</td>\n",
       "    </tr>\n",
       "    <tr>\n",
       "      <th>83</th>\n",
       "      <td>RPS9</td>\n",
       "    </tr>\n",
       "    <tr>\n",
       "      <th>84</th>\n",
       "      <td>RPSA</td>\n",
       "    </tr>\n",
       "    <tr>\n",
       "      <th>85</th>\n",
       "      <td>RSL24D1</td>\n",
       "    </tr>\n",
       "    <tr>\n",
       "      <th>86</th>\n",
       "      <td>RSL24D1P11</td>\n",
       "    </tr>\n",
       "    <tr>\n",
       "      <th>87</th>\n",
       "      <td>UBA52</td>\n",
       "    </tr>\n",
       "  </tbody>\n",
       "</table>\n",
       "<p>88 rows × 1 columns</p>\n",
       "</div>"
      ],
      "text/plain": [
       "             0\n",
       "0          FAU\n",
       "1       MRPL13\n",
       "2        RPL10\n",
       "3       RPL10A\n",
       "4       RPL10L\n",
       "..         ...\n",
       "83        RPS9\n",
       "84        RPSA\n",
       "85     RSL24D1\n",
       "86  RSL24D1P11\n",
       "87       UBA52\n",
       "\n",
       "[88 rows x 1 columns]"
      ]
     },
     "execution_count": 25,
     "metadata": {},
     "output_type": "execute_result"
    }
   ],
   "source": [
    "ribo_genes = pd.read_table(ribo_url, skiprows=2, header = None)\n",
    "ribo_genes"
   ]
  },
  {
   "cell_type": "code",
   "execution_count": 26,
   "metadata": {},
   "outputs": [],
   "source": [
    "adata.var['ribo'] = adata.var_names.isin(ribo_genes[0].values)"
   ]
  },
  {
   "cell_type": "code",
   "execution_count": 27,
   "metadata": {},
   "outputs": [
    {
     "data": {
      "text/html": [
       "<div>\n",
       "<style scoped>\n",
       "    .dataframe tbody tr th:only-of-type {\n",
       "        vertical-align: middle;\n",
       "    }\n",
       "\n",
       "    .dataframe tbody tr th {\n",
       "        vertical-align: top;\n",
       "    }\n",
       "\n",
       "    .dataframe thead th {\n",
       "        text-align: right;\n",
       "    }\n",
       "</style>\n",
       "<table border=\"1\" class=\"dataframe\">\n",
       "  <thead>\n",
       "    <tr style=\"text-align: right;\">\n",
       "      <th></th>\n",
       "      <th>_scvi_batch</th>\n",
       "      <th>_scvi_labels</th>\n",
       "      <th>doublet</th>\n",
       "    </tr>\n",
       "  </thead>\n",
       "  <tbody>\n",
       "    <tr>\n",
       "      <th>TAACTTCCAACCACGC-1_1</th>\n",
       "      <td>0</td>\n",
       "      <td>0</td>\n",
       "      <td>False</td>\n",
       "    </tr>\n",
       "    <tr>\n",
       "      <th>TTGGTTTTCCTAGCTC-1_1</th>\n",
       "      <td>0</td>\n",
       "      <td>0</td>\n",
       "      <td>False</td>\n",
       "    </tr>\n",
       "    <tr>\n",
       "      <th>TCTATCACAAGGCTTT-1_1</th>\n",
       "      <td>0</td>\n",
       "      <td>0</td>\n",
       "      <td>False</td>\n",
       "    </tr>\n",
       "    <tr>\n",
       "      <th>CACTTCGCAGTACTAC-1_1</th>\n",
       "      <td>0</td>\n",
       "      <td>0</td>\n",
       "      <td>False</td>\n",
       "    </tr>\n",
       "    <tr>\n",
       "      <th>GGGTATTGTACGATGG-1_1</th>\n",
       "      <td>0</td>\n",
       "      <td>0</td>\n",
       "      <td>False</td>\n",
       "    </tr>\n",
       "    <tr>\n",
       "      <th>...</th>\n",
       "      <td>...</td>\n",
       "      <td>...</td>\n",
       "      <td>...</td>\n",
       "    </tr>\n",
       "    <tr>\n",
       "      <th>CGCCATTGTTTGCCGG-1_1</th>\n",
       "      <td>0</td>\n",
       "      <td>0</td>\n",
       "      <td>False</td>\n",
       "    </tr>\n",
       "    <tr>\n",
       "      <th>CACTGGGGTCTACGTA-1_1</th>\n",
       "      <td>0</td>\n",
       "      <td>0</td>\n",
       "      <td>False</td>\n",
       "    </tr>\n",
       "    <tr>\n",
       "      <th>CATACTTGTAGAGGAA-1_1</th>\n",
       "      <td>0</td>\n",
       "      <td>0</td>\n",
       "      <td>False</td>\n",
       "    </tr>\n",
       "    <tr>\n",
       "      <th>TTTGGTTTCCACGGAC-1_1</th>\n",
       "      <td>0</td>\n",
       "      <td>0</td>\n",
       "      <td>False</td>\n",
       "    </tr>\n",
       "    <tr>\n",
       "      <th>ATGCATGAGTCATGAA-1_1</th>\n",
       "      <td>0</td>\n",
       "      <td>0</td>\n",
       "      <td>False</td>\n",
       "    </tr>\n",
       "  </tbody>\n",
       "</table>\n",
       "<p>5542 rows × 3 columns</p>\n",
       "</div>"
      ],
      "text/plain": [
       "                      _scvi_batch  _scvi_labels  doublet\n",
       "TAACTTCCAACCACGC-1_1            0             0    False\n",
       "TTGGTTTTCCTAGCTC-1_1            0             0    False\n",
       "TCTATCACAAGGCTTT-1_1            0             0    False\n",
       "CACTTCGCAGTACTAC-1_1            0             0    False\n",
       "GGGTATTGTACGATGG-1_1            0             0    False\n",
       "...                           ...           ...      ...\n",
       "CGCCATTGTTTGCCGG-1_1            0             0    False\n",
       "CACTGGGGTCTACGTA-1_1            0             0    False\n",
       "CATACTTGTAGAGGAA-1_1            0             0    False\n",
       "TTTGGTTTCCACGGAC-1_1            0             0    False\n",
       "ATGCATGAGTCATGAA-1_1            0             0    False\n",
       "\n",
       "[5542 rows x 3 columns]"
      ]
     },
     "execution_count": 27,
     "metadata": {},
     "output_type": "execute_result"
    }
   ],
   "source": [
    "adata.obs"
   ]
  },
  {
   "cell_type": "code",
   "execution_count": 28,
   "metadata": {},
   "outputs": [],
   "source": [
    "sc.pp.calculate_qc_metrics(adata, qc_vars=['mt', 'ribo'], percent_top=None, log1p=False, inplace=True)"
   ]
  },
  {
   "cell_type": "code",
   "execution_count": 29,
   "metadata": {},
   "outputs": [],
   "source": [
    "sc.pp.filter_genes(adata, min_cells=3)"
   ]
  },
  {
   "cell_type": "code",
   "execution_count": 30,
   "metadata": {
    "scrolled": true
   },
   "outputs": [
    {
     "data": {
      "text/html": [
       "<div>\n",
       "<style scoped>\n",
       "    .dataframe tbody tr th:only-of-type {\n",
       "        vertical-align: middle;\n",
       "    }\n",
       "\n",
       "    .dataframe tbody tr th {\n",
       "        vertical-align: top;\n",
       "    }\n",
       "\n",
       "    .dataframe thead th {\n",
       "        text-align: right;\n",
       "    }\n",
       "</style>\n",
       "<table border=\"1\" class=\"dataframe\">\n",
       "  <thead>\n",
       "    <tr style=\"text-align: right;\">\n",
       "      <th></th>\n",
       "      <th>n_cells</th>\n",
       "      <th>highly_variable</th>\n",
       "      <th>highly_variable_rank</th>\n",
       "      <th>means</th>\n",
       "      <th>variances</th>\n",
       "      <th>variances_norm</th>\n",
       "      <th>mt</th>\n",
       "      <th>ribo</th>\n",
       "      <th>n_cells_by_counts</th>\n",
       "      <th>mean_counts</th>\n",
       "      <th>pct_dropout_by_counts</th>\n",
       "      <th>total_counts</th>\n",
       "    </tr>\n",
       "  </thead>\n",
       "  <tbody>\n",
       "    <tr>\n",
       "      <th>AC012494.1</th>\n",
       "      <td>5</td>\n",
       "      <td>True</td>\n",
       "      <td>802.0</td>\n",
       "      <td>0.002623</td>\n",
       "      <td>0.006881</td>\n",
       "      <td>1.976404</td>\n",
       "      <td>False</td>\n",
       "      <td>False</td>\n",
       "      <td>5</td>\n",
       "      <td>0.001263</td>\n",
       "      <td>99.909780</td>\n",
       "      <td>7.0</td>\n",
       "    </tr>\n",
       "    <tr>\n",
       "      <th>AL009178.3</th>\n",
       "      <td>6</td>\n",
       "      <td>True</td>\n",
       "      <td>1521.0</td>\n",
       "      <td>0.002459</td>\n",
       "      <td>0.004094</td>\n",
       "      <td>1.541798</td>\n",
       "      <td>False</td>\n",
       "      <td>False</td>\n",
       "      <td>6</td>\n",
       "      <td>0.001444</td>\n",
       "      <td>99.891736</td>\n",
       "      <td>8.0</td>\n",
       "    </tr>\n",
       "    <tr>\n",
       "      <th>AC023796.1</th>\n",
       "      <td>6</td>\n",
       "      <td>True</td>\n",
       "      <td>1931.0</td>\n",
       "      <td>0.002459</td>\n",
       "      <td>0.003766</td>\n",
       "      <td>1.418272</td>\n",
       "      <td>False</td>\n",
       "      <td>False</td>\n",
       "      <td>6</td>\n",
       "      <td>0.001083</td>\n",
       "      <td>99.891736</td>\n",
       "      <td>6.0</td>\n",
       "    </tr>\n",
       "    <tr>\n",
       "      <th>AC011396.2</th>\n",
       "      <td>7</td>\n",
       "      <td>True</td>\n",
       "      <td>1889.0</td>\n",
       "      <td>0.001968</td>\n",
       "      <td>0.002948</td>\n",
       "      <td>1.432033</td>\n",
       "      <td>False</td>\n",
       "      <td>False</td>\n",
       "      <td>7</td>\n",
       "      <td>0.001624</td>\n",
       "      <td>99.873692</td>\n",
       "      <td>9.0</td>\n",
       "    </tr>\n",
       "    <tr>\n",
       "      <th>AC092939.1</th>\n",
       "      <td>7</td>\n",
       "      <td>True</td>\n",
       "      <td>1135.0</td>\n",
       "      <td>0.002623</td>\n",
       "      <td>0.006225</td>\n",
       "      <td>1.746488</td>\n",
       "      <td>False</td>\n",
       "      <td>False</td>\n",
       "      <td>7</td>\n",
       "      <td>0.001444</td>\n",
       "      <td>99.873692</td>\n",
       "      <td>8.0</td>\n",
       "    </tr>\n",
       "    <tr>\n",
       "      <th>...</th>\n",
       "      <td>...</td>\n",
       "      <td>...</td>\n",
       "      <td>...</td>\n",
       "      <td>...</td>\n",
       "      <td>...</td>\n",
       "      <td>...</td>\n",
       "      <td>...</td>\n",
       "      <td>...</td>\n",
       "      <td>...</td>\n",
       "      <td>...</td>\n",
       "      <td>...</td>\n",
       "      <td>...</td>\n",
       "    </tr>\n",
       "    <tr>\n",
       "      <th>PRKG1</th>\n",
       "      <td>1875</td>\n",
       "      <td>True</td>\n",
       "      <td>973.0</td>\n",
       "      <td>2.086899</td>\n",
       "      <td>23.688413</td>\n",
       "      <td>1.841435</td>\n",
       "      <td>False</td>\n",
       "      <td>False</td>\n",
       "      <td>1875</td>\n",
       "      <td>1.864850</td>\n",
       "      <td>66.167449</td>\n",
       "      <td>10335.0</td>\n",
       "    </tr>\n",
       "    <tr>\n",
       "      <th>ALCAM</th>\n",
       "      <td>1882</td>\n",
       "      <td>True</td>\n",
       "      <td>1742.0</td>\n",
       "      <td>1.906378</td>\n",
       "      <td>16.173752</td>\n",
       "      <td>1.468978</td>\n",
       "      <td>False</td>\n",
       "      <td>False</td>\n",
       "      <td>1882</td>\n",
       "      <td>1.688740</td>\n",
       "      <td>66.041140</td>\n",
       "      <td>9359.0</td>\n",
       "    </tr>\n",
       "    <tr>\n",
       "      <th>FTO</th>\n",
       "      <td>1956</td>\n",
       "      <td>True</td>\n",
       "      <td>1282.0</td>\n",
       "      <td>0.695196</td>\n",
       "      <td>3.469723</td>\n",
       "      <td>1.654960</td>\n",
       "      <td>False</td>\n",
       "      <td>False</td>\n",
       "      <td>1956</td>\n",
       "      <td>0.610971</td>\n",
       "      <td>64.705882</td>\n",
       "      <td>3386.0</td>\n",
       "    </tr>\n",
       "    <tr>\n",
       "      <th>ANK3</th>\n",
       "      <td>2203</td>\n",
       "      <td>True</td>\n",
       "      <td>1456.0</td>\n",
       "      <td>2.236924</td>\n",
       "      <td>22.783969</td>\n",
       "      <td>1.570576</td>\n",
       "      <td>False</td>\n",
       "      <td>False</td>\n",
       "      <td>2203</td>\n",
       "      <td>1.987911</td>\n",
       "      <td>60.249008</td>\n",
       "      <td>11017.0</td>\n",
       "    </tr>\n",
       "    <tr>\n",
       "      <th>NEAT1</th>\n",
       "      <td>4045</td>\n",
       "      <td>True</td>\n",
       "      <td>1569.0</td>\n",
       "      <td>5.314150</td>\n",
       "      <td>104.575941</td>\n",
       "      <td>1.524690</td>\n",
       "      <td>False</td>\n",
       "      <td>False</td>\n",
       "      <td>4045</td>\n",
       "      <td>4.868820</td>\n",
       "      <td>27.011909</td>\n",
       "      <td>26983.0</td>\n",
       "    </tr>\n",
       "  </tbody>\n",
       "</table>\n",
       "<p>2000 rows × 12 columns</p>\n",
       "</div>"
      ],
      "text/plain": [
       "            n_cells  highly_variable  highly_variable_rank     means  \\\n",
       "AC012494.1        5             True                 802.0  0.002623   \n",
       "AL009178.3        6             True                1521.0  0.002459   \n",
       "AC023796.1        6             True                1931.0  0.002459   \n",
       "AC011396.2        7             True                1889.0  0.001968   \n",
       "AC092939.1        7             True                1135.0  0.002623   \n",
       "...             ...              ...                   ...       ...   \n",
       "PRKG1          1875             True                 973.0  2.086899   \n",
       "ALCAM          1882             True                1742.0  1.906378   \n",
       "FTO            1956             True                1282.0  0.695196   \n",
       "ANK3           2203             True                1456.0  2.236924   \n",
       "NEAT1          4045             True                1569.0  5.314150   \n",
       "\n",
       "             variances  variances_norm     mt   ribo  n_cells_by_counts  \\\n",
       "AC012494.1    0.006881        1.976404  False  False                  5   \n",
       "AL009178.3    0.004094        1.541798  False  False                  6   \n",
       "AC023796.1    0.003766        1.418272  False  False                  6   \n",
       "AC011396.2    0.002948        1.432033  False  False                  7   \n",
       "AC092939.1    0.006225        1.746488  False  False                  7   \n",
       "...                ...             ...    ...    ...                ...   \n",
       "PRKG1        23.688413        1.841435  False  False               1875   \n",
       "ALCAM        16.173752        1.468978  False  False               1882   \n",
       "FTO           3.469723        1.654960  False  False               1956   \n",
       "ANK3         22.783969        1.570576  False  False               2203   \n",
       "NEAT1       104.575941        1.524690  False  False               4045   \n",
       "\n",
       "            mean_counts  pct_dropout_by_counts  total_counts  \n",
       "AC012494.1     0.001263              99.909780           7.0  \n",
       "AL009178.3     0.001444              99.891736           8.0  \n",
       "AC023796.1     0.001083              99.891736           6.0  \n",
       "AC011396.2     0.001624              99.873692           9.0  \n",
       "AC092939.1     0.001444              99.873692           8.0  \n",
       "...                 ...                    ...           ...  \n",
       "PRKG1          1.864850              66.167449       10335.0  \n",
       "ALCAM          1.688740              66.041140        9359.0  \n",
       "FTO            0.610971              64.705882        3386.0  \n",
       "ANK3           1.987911              60.249008       11017.0  \n",
       "NEAT1          4.868820              27.011909       26983.0  \n",
       "\n",
       "[2000 rows x 12 columns]"
      ]
     },
     "execution_count": 30,
     "metadata": {},
     "output_type": "execute_result"
    }
   ],
   "source": [
    "adata.var.sort_values('n_cells_by_counts')"
   ]
  },
  {
   "cell_type": "code",
   "execution_count": 31,
   "metadata": {
    "scrolled": true
   },
   "outputs": [
    {
     "data": {
      "image/png": "[encoded data removed]",
      "text/plain": [
       "<Figure size 1440x360 with 4 Axes>"
      ]
     },
     "metadata": {
      "needs_background": "light"
     },
     "output_type": "display_data"
    }
   ],
   "source": [
    "sc.pl.violin(adata, ['n_genes_by_counts', 'total_counts', 'pct_counts_mt', 'pct_counts_ribo'], \n",
    "             jitter=0.4, multi_panel=True)"
   ]
  },
  {
   "cell_type": "code",
   "execution_count": 32,
   "metadata": {},
   "outputs": [],
   "source": [
    "import numpy as np\n",
    "upper_lim = np.quantile(adata.obs.n_genes_by_counts.values, .98)"
   ]
  },
  {
   "cell_type": "code",
   "execution_count": 33,
   "metadata": {},
   "outputs": [
    {
     "data": {
      "text/plain": [
       "359.0"
      ]
     },
     "execution_count": 33,
     "metadata": {},
     "output_type": "execute_result"
    }
   ],
   "source": [
    "upper_lim"
   ]
  },
  {
   "cell_type": "code",
   "execution_count": 34,
   "metadata": {},
   "outputs": [],
   "source": [
    "adata = adata[adata.obs.n_genes_by_counts < upper_lim]"
   ]
  },
  {
   "cell_type": "code",
   "execution_count": 35,
   "metadata": {},
   "outputs": [
    {
     "data": {
      "text/html": [
       "<div>\n",
       "<style scoped>\n",
       "    .dataframe tbody tr th:only-of-type {\n",
       "        vertical-align: middle;\n",
       "    }\n",
       "\n",
       "    .dataframe tbody tr th {\n",
       "        vertical-align: top;\n",
       "    }\n",
       "\n",
       "    .dataframe thead th {\n",
       "        text-align: right;\n",
       "    }\n",
       "</style>\n",
       "<table border=\"1\" class=\"dataframe\">\n",
       "  <thead>\n",
       "    <tr style=\"text-align: right;\">\n",
       "      <th></th>\n",
       "      <th>_scvi_batch</th>\n",
       "      <th>_scvi_labels</th>\n",
       "      <th>doublet</th>\n",
       "      <th>n_genes_by_counts</th>\n",
       "      <th>total_counts</th>\n",
       "      <th>total_counts_mt</th>\n",
       "      <th>pct_counts_mt</th>\n",
       "      <th>total_counts_ribo</th>\n",
       "      <th>pct_counts_ribo</th>\n",
       "    </tr>\n",
       "  </thead>\n",
       "  <tbody>\n",
       "    <tr>\n",
       "      <th>TTGGTTTTCCTAGCTC-1_1</th>\n",
       "      <td>0</td>\n",
       "      <td>0</td>\n",
       "      <td>False</td>\n",
       "      <td>283</td>\n",
       "      <td>2259.0</td>\n",
       "      <td>463.0</td>\n",
       "      <td>20.495794</td>\n",
       "      <td>4.0</td>\n",
       "      <td>0.177070</td>\n",
       "    </tr>\n",
       "    <tr>\n",
       "      <th>TCTATCACAAGGCTTT-1_1</th>\n",
       "      <td>0</td>\n",
       "      <td>0</td>\n",
       "      <td>False</td>\n",
       "      <td>315</td>\n",
       "      <td>1656.0</td>\n",
       "      <td>183.0</td>\n",
       "      <td>11.050725</td>\n",
       "      <td>1.0</td>\n",
       "      <td>0.060386</td>\n",
       "    </tr>\n",
       "    <tr>\n",
       "      <th>CACTTCGCAGTACTAC-1_1</th>\n",
       "      <td>0</td>\n",
       "      <td>0</td>\n",
       "      <td>False</td>\n",
       "      <td>279</td>\n",
       "      <td>1715.0</td>\n",
       "      <td>253.0</td>\n",
       "      <td>14.752187</td>\n",
       "      <td>6.0</td>\n",
       "      <td>0.349854</td>\n",
       "    </tr>\n",
       "    <tr>\n",
       "      <th>GGGTATTGTACGATGG-1_1</th>\n",
       "      <td>0</td>\n",
       "      <td>0</td>\n",
       "      <td>False</td>\n",
       "      <td>296</td>\n",
       "      <td>1626.0</td>\n",
       "      <td>337.0</td>\n",
       "      <td>20.725708</td>\n",
       "      <td>0.0</td>\n",
       "      <td>0.000000</td>\n",
       "    </tr>\n",
       "    <tr>\n",
       "      <th>CCTTGTGCAGAGGGTT-1_1</th>\n",
       "      <td>0</td>\n",
       "      <td>0</td>\n",
       "      <td>False</td>\n",
       "      <td>267</td>\n",
       "      <td>1917.0</td>\n",
       "      <td>575.0</td>\n",
       "      <td>29.994783</td>\n",
       "      <td>2.0</td>\n",
       "      <td>0.104330</td>\n",
       "    </tr>\n",
       "    <tr>\n",
       "      <th>...</th>\n",
       "      <td>...</td>\n",
       "      <td>...</td>\n",
       "      <td>...</td>\n",
       "      <td>...</td>\n",
       "      <td>...</td>\n",
       "      <td>...</td>\n",
       "      <td>...</td>\n",
       "      <td>...</td>\n",
       "      <td>...</td>\n",
       "    </tr>\n",
       "    <tr>\n",
       "      <th>CGCCATTGTTTGCCGG-1_1</th>\n",
       "      <td>0</td>\n",
       "      <td>0</td>\n",
       "      <td>False</td>\n",
       "      <td>100</td>\n",
       "      <td>131.0</td>\n",
       "      <td>3.0</td>\n",
       "      <td>2.290076</td>\n",
       "      <td>0.0</td>\n",
       "      <td>0.000000</td>\n",
       "    </tr>\n",
       "    <tr>\n",
       "      <th>CACTGGGGTCTACGTA-1_1</th>\n",
       "      <td>0</td>\n",
       "      <td>0</td>\n",
       "      <td>False</td>\n",
       "      <td>43</td>\n",
       "      <td>68.0</td>\n",
       "      <td>0.0</td>\n",
       "      <td>0.000000</td>\n",
       "      <td>0.0</td>\n",
       "      <td>0.000000</td>\n",
       "    </tr>\n",
       "    <tr>\n",
       "      <th>CATACTTGTAGAGGAA-1_1</th>\n",
       "      <td>0</td>\n",
       "      <td>0</td>\n",
       "      <td>False</td>\n",
       "      <td>21</td>\n",
       "      <td>24.0</td>\n",
       "      <td>2.0</td>\n",
       "      <td>8.333334</td>\n",
       "      <td>0.0</td>\n",
       "      <td>0.000000</td>\n",
       "    </tr>\n",
       "    <tr>\n",
       "      <th>TTTGGTTTCCACGGAC-1_1</th>\n",
       "      <td>0</td>\n",
       "      <td>0</td>\n",
       "      <td>False</td>\n",
       "      <td>35</td>\n",
       "      <td>51.0</td>\n",
       "      <td>0.0</td>\n",
       "      <td>0.000000</td>\n",
       "      <td>2.0</td>\n",
       "      <td>3.921569</td>\n",
       "    </tr>\n",
       "    <tr>\n",
       "      <th>ATGCATGAGTCATGAA-1_1</th>\n",
       "      <td>0</td>\n",
       "      <td>0</td>\n",
       "      <td>False</td>\n",
       "      <td>62</td>\n",
       "      <td>87.0</td>\n",
       "      <td>0.0</td>\n",
       "      <td>0.000000</td>\n",
       "      <td>0.0</td>\n",
       "      <td>0.000000</td>\n",
       "    </tr>\n",
       "  </tbody>\n",
       "</table>\n",
       "<p>5430 rows × 9 columns</p>\n",
       "</div>"
      ],
      "text/plain": [
       "                      _scvi_batch  _scvi_labels  doublet  n_genes_by_counts  \\\n",
       "TTGGTTTTCCTAGCTC-1_1            0             0    False                283   \n",
       "TCTATCACAAGGCTTT-1_1            0             0    False                315   \n",
       "CACTTCGCAGTACTAC-1_1            0             0    False                279   \n",
       "GGGTATTGTACGATGG-1_1            0             0    False                296   \n",
       "CCTTGTGCAGAGGGTT-1_1            0             0    False                267   \n",
       "...                           ...           ...      ...                ...   \n",
       "CGCCATTGTTTGCCGG-1_1            0             0    False                100   \n",
       "CACTGGGGTCTACGTA-1_1            0             0    False                 43   \n",
       "CATACTTGTAGAGGAA-1_1            0             0    False                 21   \n",
       "TTTGGTTTCCACGGAC-1_1            0             0    False                 35   \n",
       "ATGCATGAGTCATGAA-1_1            0             0    False                 62   \n",
       "\n",
       "                      total_counts  total_counts_mt  pct_counts_mt  \\\n",
       "TTGGTTTTCCTAGCTC-1_1        2259.0            463.0      20.495794   \n",
       "TCTATCACAAGGCTTT-1_1        1656.0            183.0      11.050725   \n",
       "CACTTCGCAGTACTAC-1_1        1715.0            253.0      14.752187   \n",
       "GGGTATTGTACGATGG-1_1        1626.0            337.0      20.725708   \n",
       "CCTTGTGCAGAGGGTT-1_1        1917.0            575.0      29.994783   \n",
       "...                            ...              ...            ...   \n",
       "CGCCATTGTTTGCCGG-1_1         131.0              3.0       2.290076   \n",
       "CACTGGGGTCTACGTA-1_1          68.0              0.0       0.000000   \n",
       "CATACTTGTAGAGGAA-1_1          24.0              2.0       8.333334   \n",
       "TTTGGTTTCCACGGAC-1_1          51.0              0.0       0.000000   \n",
       "ATGCATGAGTCATGAA-1_1          87.0              0.0       0.000000   \n",
       "\n",
       "                      total_counts_ribo  pct_counts_ribo  \n",
       "TTGGTTTTCCTAGCTC-1_1                4.0         0.177070  \n",
       "TCTATCACAAGGCTTT-1_1                1.0         0.060386  \n",
       "CACTTCGCAGTACTAC-1_1                6.0         0.349854  \n",
       "GGGTATTGTACGATGG-1_1                0.0         0.000000  \n",
       "CCTTGTGCAGAGGGTT-1_1                2.0         0.104330  \n",
       "...                                 ...              ...  \n",
       "CGCCATTGTTTGCCGG-1_1                0.0         0.000000  \n",
       "CACTGGGGTCTACGTA-1_1                0.0         0.000000  \n",
       "CATACTTGTAGAGGAA-1_1                0.0         0.000000  \n",
       "TTTGGTTTCCACGGAC-1_1                2.0         3.921569  \n",
       "ATGCATGAGTCATGAA-1_1                0.0         0.000000  \n",
       "\n",
       "[5430 rows x 9 columns]"
      ]
     },
     "execution_count": 35,
     "metadata": {},
     "output_type": "execute_result"
    }
   ],
   "source": [
    "adata.obs"
   ]
  },
  {
   "cell_type": "code",
   "execution_count": 36,
   "metadata": {},
   "outputs": [],
   "source": [
    "adata = adata[adata.obs.pct_counts_mt < 20]"
   ]
  },
  {
   "cell_type": "code",
   "execution_count": 37,
   "metadata": {},
   "outputs": [],
   "source": [
    "adata = adata[adata.obs.pct_counts_ribo < 2]"
   ]
  },
  {
   "cell_type": "code",
   "execution_count": 38,
   "metadata": {},
   "outputs": [
    {
     "data": {
      "text/plain": [
       "View of AnnData object with n_obs × n_vars = 4819 × 2000\n",
       "    obs: '_scvi_batch', '_scvi_labels', 'doublet', 'n_genes_by_counts', 'total_counts', 'total_counts_mt', 'pct_counts_mt', 'total_counts_ribo', 'pct_counts_ribo'\n",
       "    var: 'n_cells', 'highly_variable', 'highly_variable_rank', 'means', 'variances', 'variances_norm', 'mt', 'ribo', 'n_cells_by_counts', 'mean_counts', 'pct_dropout_by_counts', 'total_counts'\n",
       "    uns: 'hvg', '_scvi_uuid', '_scvi_manager_uuid'"
      ]
     },
     "execution_count": 38,
     "metadata": {},
     "output_type": "execute_result"
    }
   ],
   "source": [
    "adata"
   ]
  },
  {
   "cell_type": "markdown",
   "metadata": {},
   "source": [
    "# Normalization"
   ]
  },
  {
   "cell_type": "code",
   "execution_count": 39,
   "metadata": {},
   "outputs": [
    {
     "data": {
      "text/plain": [
       "ArrayView([1656., 1715., 1277., ...,   68.,   24.,   87.], dtype=float32)"
      ]
     },
     "execution_count": 39,
     "metadata": {},
     "output_type": "execute_result"
    }
   ],
   "source": [
    "adata.X.sum(axis = 1)"
   ]
  },
  {
   "cell_type": "code",
   "execution_count": 40,
   "metadata": {},
   "outputs": [
    {
     "name": "stderr",
     "output_type": "stream",
     "text": [
      "/home/ialahi/anaconda3/lib/python3.7/site-packages/scanpy/preprocessing/_normalization.py:170: UserWarning: Received a view of an AnnData. Making a copy.\n",
      "  view_to_actual(adata)\n"
     ]
    }
   ],
   "source": [
    "sc.pp.normalize_total(adata, target_sum=1e4) #normalize every cell to 10,000 UMI"
   ]
  },
  {
   "cell_type": "code",
   "execution_count": 41,
   "metadata": {},
   "outputs": [
    {
     "data": {
      "text/plain": [
       "array([10000., 10000., 10000., ..., 10000., 10000., 10000.], dtype=float32)"
      ]
     },
     "execution_count": 41,
     "metadata": {},
     "output_type": "execute_result"
    }
   ],
   "source": [
    "adata.X.sum(axis = 1)"
   ]
  },
  {
   "cell_type": "code",
   "execution_count": 42,
   "metadata": {},
   "outputs": [],
   "source": [
    "sc.pp.log1p(adata) #change to log counts"
   ]
  },
  {
   "cell_type": "code",
   "execution_count": 43,
   "metadata": {},
   "outputs": [
    {
     "data": {
      "text/plain": [
       "array([921.1619 , 824.02496, 790.1543 , ..., 228.81818, 128.51732,\n",
       "       307.66254], dtype=float32)"
      ]
     },
     "execution_count": 43,
     "metadata": {},
     "output_type": "execute_result"
    }
   ],
   "source": [
    "adata.X.sum(axis = 1)"
   ]
  },
  {
   "cell_type": "code",
   "execution_count": 44,
   "metadata": {},
   "outputs": [
    {
     "data": {
      "text/plain": [
       "0.0"
      ]
     },
     "execution_count": 44,
     "metadata": {},
     "output_type": "execute_result"
    }
   ],
   "source": [
    "adata.X.min()"
   ]
  },
  {
   "cell_type": "markdown",
   "metadata": {},
   "source": [
    "# Clustering"
   ]
  },
  {
   "cell_type": "code",
   "execution_count": 45,
   "metadata": {},
   "outputs": [],
   "source": [
    "sc.pp.highly_variable_genes(adata, n_top_genes = 2000)"
   ]
  },
  {
   "cell_type": "code",
   "execution_count": 46,
   "metadata": {},
   "outputs": [
    {
     "data": {
      "text/html": [
       "<div>\n",
       "<style scoped>\n",
       "    .dataframe tbody tr th:only-of-type {\n",
       "        vertical-align: middle;\n",
       "    }\n",
       "\n",
       "    .dataframe tbody tr th {\n",
       "        vertical-align: top;\n",
       "    }\n",
       "\n",
       "    .dataframe thead th {\n",
       "        text-align: right;\n",
       "    }\n",
       "</style>\n",
       "<table border=\"1\" class=\"dataframe\">\n",
       "  <thead>\n",
       "    <tr style=\"text-align: right;\">\n",
       "      <th></th>\n",
       "      <th>n_cells</th>\n",
       "      <th>highly_variable</th>\n",
       "      <th>highly_variable_rank</th>\n",
       "      <th>means</th>\n",
       "      <th>variances</th>\n",
       "      <th>variances_norm</th>\n",
       "      <th>mt</th>\n",
       "      <th>ribo</th>\n",
       "      <th>n_cells_by_counts</th>\n",
       "      <th>mean_counts</th>\n",
       "      <th>pct_dropout_by_counts</th>\n",
       "      <th>total_counts</th>\n",
       "      <th>dispersions</th>\n",
       "      <th>dispersions_norm</th>\n",
       "    </tr>\n",
       "  </thead>\n",
       "  <tbody>\n",
       "    <tr>\n",
       "      <th>TTLL10</th>\n",
       "      <td>91</td>\n",
       "      <td>True</td>\n",
       "      <td>903.0</td>\n",
       "      <td>0.163065</td>\n",
       "      <td>0.069354</td>\n",
       "      <td>1.901045</td>\n",
       "      <td>False</td>\n",
       "      <td>False</td>\n",
       "      <td>91</td>\n",
       "      <td>0.023638</td>\n",
       "      <td>98.357994</td>\n",
       "      <td>131.0</td>\n",
       "      <td>3.462433</td>\n",
       "      <td>-1.190489</td>\n",
       "    </tr>\n",
       "    <tr>\n",
       "      <th>TNFRSF18</th>\n",
       "      <td>13</td>\n",
       "      <td>True</td>\n",
       "      <td>1604.0</td>\n",
       "      <td>0.431219</td>\n",
       "      <td>0.004911</td>\n",
       "      <td>1.513808</td>\n",
       "      <td>False</td>\n",
       "      <td>False</td>\n",
       "      <td>13</td>\n",
       "      <td>0.002346</td>\n",
       "      <td>99.765428</td>\n",
       "      <td>13.0</td>\n",
       "      <td>5.617261</td>\n",
       "      <td>1.681257</td>\n",
       "    </tr>\n",
       "    <tr>\n",
       "      <th>CFAP74</th>\n",
       "      <td>135</td>\n",
       "      <td>True</td>\n",
       "      <td>1370.0</td>\n",
       "      <td>0.366894</td>\n",
       "      <td>0.087024</td>\n",
       "      <td>1.607399</td>\n",
       "      <td>False</td>\n",
       "      <td>False</td>\n",
       "      <td>135</td>\n",
       "      <td>0.036449</td>\n",
       "      <td>97.564056</td>\n",
       "      <td>202.0</td>\n",
       "      <td>4.184062</td>\n",
       "      <td>-0.594626</td>\n",
       "    </tr>\n",
       "    <tr>\n",
       "      <th>TTC34</th>\n",
       "      <td>180</td>\n",
       "      <td>True</td>\n",
       "      <td>245.0</td>\n",
       "      <td>0.462960</td>\n",
       "      <td>0.363502</td>\n",
       "      <td>3.044086</td>\n",
       "      <td>False</td>\n",
       "      <td>False</td>\n",
       "      <td>180</td>\n",
       "      <td>0.065680</td>\n",
       "      <td>96.752075</td>\n",
       "      <td>364.0</td>\n",
       "      <td>4.016698</td>\n",
       "      <td>-0.860395</td>\n",
       "    </tr>\n",
       "    <tr>\n",
       "      <th>AJAP1</th>\n",
       "      <td>23</td>\n",
       "      <td>True</td>\n",
       "      <td>1922.0</td>\n",
       "      <td>0.351791</td>\n",
       "      <td>0.011432</td>\n",
       "      <td>1.421002</td>\n",
       "      <td>False</td>\n",
       "      <td>False</td>\n",
       "      <td>23</td>\n",
       "      <td>0.005594</td>\n",
       "      <td>99.584987</td>\n",
       "      <td>31.0</td>\n",
       "      <td>4.858217</td>\n",
       "      <td>0.475915</td>\n",
       "    </tr>\n",
       "    <tr>\n",
       "      <th>...</th>\n",
       "      <td>...</td>\n",
       "      <td>...</td>\n",
       "      <td>...</td>\n",
       "      <td>...</td>\n",
       "      <td>...</td>\n",
       "      <td>...</td>\n",
       "      <td>...</td>\n",
       "      <td>...</td>\n",
       "      <td>...</td>\n",
       "      <td>...</td>\n",
       "      <td>...</td>\n",
       "      <td>...</td>\n",
       "      <td>...</td>\n",
       "      <td>...</td>\n",
       "    </tr>\n",
       "    <tr>\n",
       "      <th>MT-ND4L</th>\n",
       "      <td>545</td>\n",
       "      <td>True</td>\n",
       "      <td>1212.0</td>\n",
       "      <td>1.687033</td>\n",
       "      <td>0.559353</td>\n",
       "      <td>1.695637</td>\n",
       "      <td>True</td>\n",
       "      <td>False</td>\n",
       "      <td>545</td>\n",
       "      <td>0.169253</td>\n",
       "      <td>90.166005</td>\n",
       "      <td>938.0</td>\n",
       "      <td>5.203950</td>\n",
       "      <td>0.447381</td>\n",
       "    </tr>\n",
       "    <tr>\n",
       "      <th>MT-ND4</th>\n",
       "      <td>1128</td>\n",
       "      <td>True</td>\n",
       "      <td>178.0</td>\n",
       "      <td>2.844302</td>\n",
       "      <td>9.742224</td>\n",
       "      <td>3.486984</td>\n",
       "      <td>True</td>\n",
       "      <td>False</td>\n",
       "      <td>1128</td>\n",
       "      <td>0.726813</td>\n",
       "      <td>79.646337</td>\n",
       "      <td>4028.0</td>\n",
       "      <td>5.493876</td>\n",
       "      <td>0.203180</td>\n",
       "    </tr>\n",
       "    <tr>\n",
       "      <th>MT-ND5</th>\n",
       "      <td>756</td>\n",
       "      <td>True</td>\n",
       "      <td>443.0</td>\n",
       "      <td>2.351289</td>\n",
       "      <td>1.669344</td>\n",
       "      <td>2.430210</td>\n",
       "      <td>True</td>\n",
       "      <td>False</td>\n",
       "      <td>756</td>\n",
       "      <td>0.297005</td>\n",
       "      <td>86.358715</td>\n",
       "      <td>1646.0</td>\n",
       "      <td>5.574910</td>\n",
       "      <td>0.504624</td>\n",
       "    </tr>\n",
       "    <tr>\n",
       "      <th>MT-ND6</th>\n",
       "      <td>689</td>\n",
       "      <td>True</td>\n",
       "      <td>123.0</td>\n",
       "      <td>2.159710</td>\n",
       "      <td>3.357087</td>\n",
       "      <td>3.985056</td>\n",
       "      <td>True</td>\n",
       "      <td>False</td>\n",
       "      <td>689</td>\n",
       "      <td>0.322447</td>\n",
       "      <td>87.567665</td>\n",
       "      <td>1787.0</td>\n",
       "      <td>5.452107</td>\n",
       "      <td>0.309266</td>\n",
       "    </tr>\n",
       "    <tr>\n",
       "      <th>MT-CYB</th>\n",
       "      <td>1099</td>\n",
       "      <td>True</td>\n",
       "      <td>414.0</td>\n",
       "      <td>2.826436</td>\n",
       "      <td>4.384615</td>\n",
       "      <td>2.487058</td>\n",
       "      <td>True</td>\n",
       "      <td>False</td>\n",
       "      <td>1099</td>\n",
       "      <td>0.549080</td>\n",
       "      <td>80.169614</td>\n",
       "      <td>3043.0</td>\n",
       "      <td>5.532490</td>\n",
       "      <td>0.278609</td>\n",
       "    </tr>\n",
       "  </tbody>\n",
       "</table>\n",
       "<p>2000 rows × 14 columns</p>\n",
       "</div>"
      ],
      "text/plain": [
       "          n_cells  highly_variable  highly_variable_rank     means  variances  \\\n",
       "TTLL10         91             True                 903.0  0.163065   0.069354   \n",
       "TNFRSF18       13             True                1604.0  0.431219   0.004911   \n",
       "CFAP74        135             True                1370.0  0.366894   0.087024   \n",
       "TTC34         180             True                 245.0  0.462960   0.363502   \n",
       "AJAP1          23             True                1922.0  0.351791   0.011432   \n",
       "...           ...              ...                   ...       ...        ...   \n",
       "MT-ND4L       545             True                1212.0  1.687033   0.559353   \n",
       "MT-ND4       1128             True                 178.0  2.844302   9.742224   \n",
       "MT-ND5        756             True                 443.0  2.351289   1.669344   \n",
       "MT-ND6        689             True                 123.0  2.159710   3.357087   \n",
       "MT-CYB       1099             True                 414.0  2.826436   4.384615   \n",
       "\n",
       "          variances_norm     mt   ribo  n_cells_by_counts  mean_counts  \\\n",
       "TTLL10          1.901045  False  False                 91     0.023638   \n",
       "TNFRSF18        1.513808  False  False                 13     0.002346   \n",
       "CFAP74          1.607399  False  False                135     0.036449   \n",
       "TTC34           3.044086  False  False                180     0.065680   \n",
       "AJAP1           1.421002  False  False                 23     0.005594   \n",
       "...                  ...    ...    ...                ...          ...   \n",
       "MT-ND4L         1.695637   True  False                545     0.169253   \n",
       "MT-ND4          3.486984   True  False               1128     0.726813   \n",
       "MT-ND5          2.430210   True  False                756     0.297005   \n",
       "MT-ND6          3.985056   True  False                689     0.322447   \n",
       "MT-CYB          2.487058   True  False               1099     0.549080   \n",
       "\n",
       "          pct_dropout_by_counts  total_counts  dispersions  dispersions_norm  \n",
       "TTLL10                98.357994         131.0     3.462433         -1.190489  \n",
       "TNFRSF18              99.765428          13.0     5.617261          1.681257  \n",
       "CFAP74                97.564056         202.0     4.184062         -0.594626  \n",
       "TTC34                 96.752075         364.0     4.016698         -0.860395  \n",
       "AJAP1                 99.584987          31.0     4.858217          0.475915  \n",
       "...                         ...           ...          ...               ...  \n",
       "MT-ND4L               90.166005         938.0     5.203950          0.447381  \n",
       "MT-ND4                79.646337        4028.0     5.493876          0.203180  \n",
       "MT-ND5                86.358715        1646.0     5.574910          0.504624  \n",
       "MT-ND6                87.567665        1787.0     5.452107          0.309266  \n",
       "MT-CYB                80.169614        3043.0     5.532490          0.278609  \n",
       "\n",
       "[2000 rows x 14 columns]"
      ]
     },
     "execution_count": 46,
     "metadata": {},
     "output_type": "execute_result"
    }
   ],
   "source": [
    "adata.var"
   ]
  },
  {
   "cell_type": "code",
   "execution_count": 47,
   "metadata": {},
   "outputs": [
    {
     "data": {
      "image/png": "[encoded data removed]",
      "text/plain": [
       "<Figure size 864x288 with 2 Axes>"
      ]
     },
     "metadata": {
      "needs_background": "light"
     },
     "output_type": "display_data"
    }
   ],
   "source": [
    "sc.pl.highly_variable_genes(adata)"
   ]
  },
  {
   "cell_type": "code",
   "execution_count": 48,
   "metadata": {},
   "outputs": [],
   "source": [
    "adata = adata[:, adata.var.highly_variable]"
   ]
  },
  {
   "cell_type": "code",
   "execution_count": 49,
   "metadata": {},
   "outputs": [
    {
     "name": "stderr",
     "output_type": "stream",
     "text": [
      "/home/ialahi/anaconda3/lib/python3.7/site-packages/statsmodels/tools/_testing.py:19: FutureWarning: pandas.util.testing is deprecated. Use the functions in the public API at pandas.testing instead.\n",
      "  import pandas.util.testing as tm\n"
     ]
    }
   ],
   "source": [
    "sc.pp.regress_out(adata, ['total_counts', 'pct_counts_mt', 'pct_counts_ribo'])"
   ]
  },
  {
   "cell_type": "code",
   "execution_count": 50,
   "metadata": {},
   "outputs": [],
   "source": [
    "sc.pp.scale(adata, max_value=10)"
   ]
  },
  {
   "cell_type": "code",
   "execution_count": 51,
   "metadata": {},
   "outputs": [],
   "source": [
    "sc.tl.pca(adata, svd_solver='arpack')"
   ]
  },
  {
   "cell_type": "code",
   "execution_count": 52,
   "metadata": {},
   "outputs": [
    {
     "data": {
      "image/png": "[encoded data removed]",
      "text/plain": [
       "<Figure size 432x288 with 1 Axes>"
      ]
     },
     "metadata": {
      "needs_background": "light"
     },
     "output_type": "display_data"
    }
   ],
   "source": [
    "sc.pl.pca_variance_ratio(adata, log=True, n_pcs = 50)"
   ]
  },
  {
   "cell_type": "code",
   "execution_count": 53,
   "metadata": {},
   "outputs": [
    {
     "name": "stdout",
     "output_type": "stream",
     "text": [
      "0.5.3\n"
     ]
    }
   ],
   "source": [
    "import umap\n",
    "print(umap.__version__)"
   ]
  },
  {
   "cell_type": "code",
   "execution_count": 54,
   "metadata": {},
   "outputs": [],
   "source": [
    "#!pip uninstall umap-learn -y\n"
   ]
  },
  {
   "cell_type": "code",
   "execution_count": 55,
   "metadata": {},
   "outputs": [],
   "source": [
    "#!pip install umap-learn==0.4.6\n",
    "\n"
   ]
  },
  {
   "cell_type": "code",
   "execution_count": 56,
   "metadata": {},
   "outputs": [],
   "source": [
    "sc.pp.neighbors(adata, n_pcs = 30)\n",
    "#adata.X = adata.X.astype('float32')\n",
    "#sc.pp.neighbors(adata, n_pcs=int(30))\n"
   ]
  },
  {
   "cell_type": "code",
   "execution_count": 57,
   "metadata": {},
   "outputs": [
    {
     "name": "stdout",
     "output_type": "stream",
     "text": [
      "1.9.3\n"
     ]
    }
   ],
   "source": [
    "print(sc.__version__)"
   ]
  },
  {
   "cell_type": "code",
   "execution_count": 58,
   "metadata": {},
   "outputs": [],
   "source": [
    "sc.tl.umap(adata)"
   ]
  },
  {
   "cell_type": "code",
   "execution_count": 59,
   "metadata": {},
   "outputs": [
    {
     "data": {
      "image/png": "[encoded data removed]",
      "text/plain": [
       "<Figure size 432x288 with 1 Axes>"
      ]
     },
     "metadata": {},
     "output_type": "display_data"
    }
   ],
   "source": [
    "sc.pl.umap(adata)"
   ]
  },
  {
   "cell_type": "code",
   "execution_count": 62,
   "metadata": {},
   "outputs": [],
   "source": [
    "#!pip install leidenalg\n"
   ]
  },
  {
   "cell_type": "code",
   "execution_count": 63,
   "metadata": {},
   "outputs": [],
   "source": [
    "sc.tl.leiden(adata, resolution = 0.5)"
   ]
  },
  {
   "cell_type": "code",
   "execution_count": 64,
   "metadata": {},
   "outputs": [
    {
     "data": {
      "text/html": [
       "<div>\n",
       "<style scoped>\n",
       "    .dataframe tbody tr th:only-of-type {\n",
       "        vertical-align: middle;\n",
       "    }\n",
       "\n",
       "    .dataframe tbody tr th {\n",
       "        vertical-align: top;\n",
       "    }\n",
       "\n",
       "    .dataframe thead th {\n",
       "        text-align: right;\n",
       "    }\n",
       "</style>\n",
       "<table border=\"1\" class=\"dataframe\">\n",
       "  <thead>\n",
       "    <tr style=\"text-align: right;\">\n",
       "      <th></th>\n",
       "      <th>_scvi_batch</th>\n",
       "      <th>_scvi_labels</th>\n",
       "      <th>doublet</th>\n",
       "      <th>n_genes_by_counts</th>\n",
       "      <th>total_counts</th>\n",
       "      <th>total_counts_mt</th>\n",
       "      <th>pct_counts_mt</th>\n",
       "      <th>total_counts_ribo</th>\n",
       "      <th>pct_counts_ribo</th>\n",
       "      <th>leiden</th>\n",
       "    </tr>\n",
       "  </thead>\n",
       "  <tbody>\n",
       "    <tr>\n",
       "      <th>TCTATCACAAGGCTTT-1_1</th>\n",
       "      <td>0</td>\n",
       "      <td>0</td>\n",
       "      <td>False</td>\n",
       "      <td>315</td>\n",
       "      <td>1656.0</td>\n",
       "      <td>183.0</td>\n",
       "      <td>11.050725</td>\n",
       "      <td>1.0</td>\n",
       "      <td>0.060386</td>\n",
       "      <td>12</td>\n",
       "    </tr>\n",
       "    <tr>\n",
       "      <th>CACTTCGCAGTACTAC-1_1</th>\n",
       "      <td>0</td>\n",
       "      <td>0</td>\n",
       "      <td>False</td>\n",
       "      <td>279</td>\n",
       "      <td>1715.0</td>\n",
       "      <td>253.0</td>\n",
       "      <td>14.752187</td>\n",
       "      <td>6.0</td>\n",
       "      <td>0.349854</td>\n",
       "      <td>12</td>\n",
       "    </tr>\n",
       "    <tr>\n",
       "      <th>TATATCCAGCGTCAGA-1_1</th>\n",
       "      <td>0</td>\n",
       "      <td>0</td>\n",
       "      <td>False</td>\n",
       "      <td>251</td>\n",
       "      <td>1277.0</td>\n",
       "      <td>204.0</td>\n",
       "      <td>15.974942</td>\n",
       "      <td>1.0</td>\n",
       "      <td>0.078309</td>\n",
       "      <td>12</td>\n",
       "    </tr>\n",
       "    <tr>\n",
       "      <th>ATGACCAGTCTTCATT-1_1</th>\n",
       "      <td>0</td>\n",
       "      <td>0</td>\n",
       "      <td>False</td>\n",
       "      <td>231</td>\n",
       "      <td>1129.0</td>\n",
       "      <td>6.0</td>\n",
       "      <td>0.531444</td>\n",
       "      <td>0.0</td>\n",
       "      <td>0.000000</td>\n",
       "      <td>0</td>\n",
       "    </tr>\n",
       "    <tr>\n",
       "      <th>TCATGAGAGAGGCGGA-1_1</th>\n",
       "      <td>0</td>\n",
       "      <td>0</td>\n",
       "      <td>False</td>\n",
       "      <td>264</td>\n",
       "      <td>1197.0</td>\n",
       "      <td>174.0</td>\n",
       "      <td>14.536341</td>\n",
       "      <td>5.0</td>\n",
       "      <td>0.417711</td>\n",
       "      <td>12</td>\n",
       "    </tr>\n",
       "    <tr>\n",
       "      <th>...</th>\n",
       "      <td>...</td>\n",
       "      <td>...</td>\n",
       "      <td>...</td>\n",
       "      <td>...</td>\n",
       "      <td>...</td>\n",
       "      <td>...</td>\n",
       "      <td>...</td>\n",
       "      <td>...</td>\n",
       "      <td>...</td>\n",
       "      <td>...</td>\n",
       "    </tr>\n",
       "    <tr>\n",
       "      <th>TCATGCCCAAGAGGTC-1_1</th>\n",
       "      <td>0</td>\n",
       "      <td>0</td>\n",
       "      <td>False</td>\n",
       "      <td>100</td>\n",
       "      <td>162.0</td>\n",
       "      <td>6.0</td>\n",
       "      <td>3.703704</td>\n",
       "      <td>0.0</td>\n",
       "      <td>0.000000</td>\n",
       "      <td>10</td>\n",
       "    </tr>\n",
       "    <tr>\n",
       "      <th>CGCCATTGTTTGCCGG-1_1</th>\n",
       "      <td>0</td>\n",
       "      <td>0</td>\n",
       "      <td>False</td>\n",
       "      <td>100</td>\n",
       "      <td>131.0</td>\n",
       "      <td>3.0</td>\n",
       "      <td>2.290076</td>\n",
       "      <td>0.0</td>\n",
       "      <td>0.000000</td>\n",
       "      <td>10</td>\n",
       "    </tr>\n",
       "    <tr>\n",
       "      <th>CACTGGGGTCTACGTA-1_1</th>\n",
       "      <td>0</td>\n",
       "      <td>0</td>\n",
       "      <td>False</td>\n",
       "      <td>43</td>\n",
       "      <td>68.0</td>\n",
       "      <td>0.0</td>\n",
       "      <td>0.000000</td>\n",
       "      <td>0.0</td>\n",
       "      <td>0.000000</td>\n",
       "      <td>0</td>\n",
       "    </tr>\n",
       "    <tr>\n",
       "      <th>CATACTTGTAGAGGAA-1_1</th>\n",
       "      <td>0</td>\n",
       "      <td>0</td>\n",
       "      <td>False</td>\n",
       "      <td>21</td>\n",
       "      <td>24.0</td>\n",
       "      <td>2.0</td>\n",
       "      <td>8.333334</td>\n",
       "      <td>0.0</td>\n",
       "      <td>0.000000</td>\n",
       "      <td>2</td>\n",
       "    </tr>\n",
       "    <tr>\n",
       "      <th>ATGCATGAGTCATGAA-1_1</th>\n",
       "      <td>0</td>\n",
       "      <td>0</td>\n",
       "      <td>False</td>\n",
       "      <td>62</td>\n",
       "      <td>87.0</td>\n",
       "      <td>0.0</td>\n",
       "      <td>0.000000</td>\n",
       "      <td>0.0</td>\n",
       "      <td>0.000000</td>\n",
       "      <td>0</td>\n",
       "    </tr>\n",
       "  </tbody>\n",
       "</table>\n",
       "<p>4819 rows × 10 columns</p>\n",
       "</div>"
      ],
      "text/plain": [
       "                      _scvi_batch  _scvi_labels  doublet  n_genes_by_counts  \\\n",
       "TCTATCACAAGGCTTT-1_1            0             0    False                315   \n",
       "CACTTCGCAGTACTAC-1_1            0             0    False                279   \n",
       "TATATCCAGCGTCAGA-1_1            0             0    False                251   \n",
       "ATGACCAGTCTTCATT-1_1            0             0    False                231   \n",
       "TCATGAGAGAGGCGGA-1_1            0             0    False                264   \n",
       "...                           ...           ...      ...                ...   \n",
       "TCATGCCCAAGAGGTC-1_1            0             0    False                100   \n",
       "CGCCATTGTTTGCCGG-1_1            0             0    False                100   \n",
       "CACTGGGGTCTACGTA-1_1            0             0    False                 43   \n",
       "CATACTTGTAGAGGAA-1_1            0             0    False                 21   \n",
       "ATGCATGAGTCATGAA-1_1            0             0    False                 62   \n",
       "\n",
       "                      total_counts  total_counts_mt  pct_counts_mt  \\\n",
       "TCTATCACAAGGCTTT-1_1        1656.0            183.0      11.050725   \n",
       "CACTTCGCAGTACTAC-1_1        1715.0            253.0      14.752187   \n",
       "TATATCCAGCGTCAGA-1_1        1277.0            204.0      15.974942   \n",
       "ATGACCAGTCTTCATT-1_1        1129.0              6.0       0.531444   \n",
       "TCATGAGAGAGGCGGA-1_1        1197.0            174.0      14.536341   \n",
       "...                            ...              ...            ...   \n",
       "TCATGCCCAAGAGGTC-1_1         162.0              6.0       3.703704   \n",
       "CGCCATTGTTTGCCGG-1_1         131.0              3.0       2.290076   \n",
       "CACTGGGGTCTACGTA-1_1          68.0              0.0       0.000000   \n",
       "CATACTTGTAGAGGAA-1_1          24.0              2.0       8.333334   \n",
       "ATGCATGAGTCATGAA-1_1          87.0              0.0       0.000000   \n",
       "\n",
       "                      total_counts_ribo  pct_counts_ribo leiden  \n",
       "TCTATCACAAGGCTTT-1_1                1.0         0.060386     12  \n",
       "CACTTCGCAGTACTAC-1_1                6.0         0.349854     12  \n",
       "TATATCCAGCGTCAGA-1_1                1.0         0.078309     12  \n",
       "ATGACCAGTCTTCATT-1_1                0.0         0.000000      0  \n",
       "TCATGAGAGAGGCGGA-1_1                5.0         0.417711     12  \n",
       "...                                 ...              ...    ...  \n",
       "TCATGCCCAAGAGGTC-1_1                0.0         0.000000     10  \n",
       "CGCCATTGTTTGCCGG-1_1                0.0         0.000000     10  \n",
       "CACTGGGGTCTACGTA-1_1                0.0         0.000000      0  \n",
       "CATACTTGTAGAGGAA-1_1                0.0         0.000000      2  \n",
       "ATGCATGAGTCATGAA-1_1                0.0         0.000000      0  \n",
       "\n",
       "[4819 rows x 10 columns]"
      ]
     },
     "execution_count": 64,
     "metadata": {},
     "output_type": "execute_result"
    }
   ],
   "source": [
    "adata.obs"
   ]
  },
  {
   "cell_type": "code",
   "execution_count": 65,
   "metadata": {},
   "outputs": [
    {
     "data": {
      "image/png": "[encoded data removed]",
      "text/plain": [
       "<Figure size 432x288 with 1 Axes>"
      ]
     },
     "metadata": {},
     "output_type": "display_data"
    }
   ],
   "source": [
    "sc.pl.umap(adata, color=['leiden'])"
   ]
  },
  {
   "cell_type": "markdown",
   "metadata": {},
   "source": [
    "# Integration"
   ]
  },
  {
   "cell_type": "code",
   "execution_count": 66,
   "metadata": {},
   "outputs": [],
   "source": [
    "def pp(csv_path):\n",
    "    adata = sc.read_csv(csv_path).T\n",
    "    sc.pp.filter_genes(adata, min_cells = 10)\n",
    "    sc.pp.highly_variable_genes(adata, n_top_genes = 2000, subset = True, flavor = 'seurat_v3')\n",
    "    scvi.model.SCVI.setup_anndata(adata)\n",
    "    vae = scvi.model.SCVI(adata)\n",
    "    vae.train()\n",
    "    solo = scvi.external.SOLO.from_scvi_model(vae)\n",
    "    solo.train()\n",
    "    df = solo.predict()\n",
    "    df['prediction'] = solo.predict(soft = False)\n",
    "    df.index = df.index.map(lambda x: x[:-2])\n",
    "    df['dif'] = df.doublet - df.singlet\n",
    "    doublets = df[(df.prediction == 'doublet') & (df.dif > 1)]\n",
    "    \n",
    "    adata = sc.read_csv(csv_path).T\n",
    "    adata.obs['Sample'] = csv_path.split('_')[2] #'raw_counts/GSM5226574_C51ctr_raw_counts.csv'\n",
    "    \n",
    "    adata.obs['doublet'] = adata.obs.index.isin(doublets.index)\n",
    "    adata = adata[~adata.obs.doublet]\n",
    "    \n",
    "    \n",
    "    sc.pp.filter_cells(adata, min_genes=200) #get rid of cells with fewer than 200 genes\n",
    "    #sc.pp.filter_genes(adata, min_cells=3) #get rid of genes that are found in fewer than 3 cells\n",
    "    adata.var['mt'] = adata.var_names.str.startswith('mt-')  # annotate the group of mitochondrial genes as 'mt'\n",
    "    adata.var['ribo'] = adata.var_names.isin(ribo_genes[0].values)\n",
    "    sc.pp.calculate_qc_metrics(adata, qc_vars=['mt', 'ribo'], percent_top=None, log1p=False, inplace=True)\n",
    "    upper_lim = np.quantile(adata.obs.n_genes_by_counts.values, .98)\n",
    "    adata = adata[adata.obs.n_genes_by_counts < upper_lim]\n",
    "    adata = adata[adata.obs.pct_counts_mt < 20]\n",
    "    adata = adata[adata.obs.pct_counts_ribo < 2]\n",
    "\n",
    "    return adata"
   ]
  },
  {
   "cell_type": "code",
   "execution_count": 69,
   "metadata": {},
   "outputs": [],
   "source": [
    "import os"
   ]
  },
  {
   "cell_type": "code",
   "execution_count": 71,
   "metadata": {},
   "outputs": [
    {
     "name": "stderr",
     "output_type": "stream",
     "text": [
      "GPU available: False, used: False\n",
      "TPU available: False, using: 0 TPU cores\n",
      "IPU available: False, using: 0 IPUs\n",
      "HPU available: False, using: 0 HPUs\n"
     ]
    },
    {
     "name": "stdout",
     "output_type": "stream",
     "text": [
      "Epoch 400/400: 100%|██████████| 400/400 [12:40<00:00,  1.57s/it, loss=312, v_num=1]"
     ]
    },
    {
     "name": "stderr",
     "output_type": "stream",
     "text": [
      "`Trainer.fit` stopped: `max_epochs=400` reached.\n"
     ]
    },
    {
     "name": "stdout",
     "output_type": "stream",
     "text": [
      "Epoch 400/400: 100%|██████████| 400/400 [12:40<00:00,  1.90s/it, loss=312, v_num=1]\n",
      "\u001b[34mINFO    \u001b[0m Creating doublets, preparing SOLO model.                                                                  \n"
     ]
    },
    {
     "name": "stderr",
     "output_type": "stream",
     "text": [
      "/home/ialahi/anaconda3/lib/python3.7/site-packages/anndata/_core/anndata.py:1785: FutureWarning: X.dtype being converted to np.float32 from float64. In the next version of anndata (0.9) conversion will not be automatic. Pass dtype explicitly to avoid this warning. Pass `AnnData(X, dtype=X.dtype, ...)` to get the future behavour.\n",
      "  [AnnData(sparse.csr_matrix(a.shape), obs=a.obs) for a in all_adatas],\n",
      "GPU available: False, used: False\n",
      "TPU available: False, using: 0 TPU cores\n",
      "IPU available: False, using: 0 IPUs\n",
      "HPU available: False, using: 0 HPUs\n"
     ]
    },
    {
     "name": "stdout",
     "output_type": "stream",
     "text": [
      "Epoch 202/400:  50%|█████     | 202/400 [01:54<01:52,  1.76it/s, loss=0.279, v_num=1]\n",
      "Monitored metric validation_loss did not improve in the last 30 records. Best score: 0.304. Signaling Trainer to stop.\n"
     ]
    },
    {
     "name": "stderr",
     "output_type": "stream",
     "text": [
      "/home/ialahi/anaconda3/lib/python3.7/site-packages/scanpy/preprocessing/_simple.py:140: ImplicitModificationWarning: Trying to modify attribute `.obs` of view, initializing view as actual.\n",
      "  adata.obs['n_genes'] = number\n",
      "GPU available: False, used: False\n",
      "TPU available: False, using: 0 TPU cores\n",
      "IPU available: False, using: 0 IPUs\n",
      "HPU available: False, using: 0 HPUs\n"
     ]
    },
    {
     "name": "stdout",
     "output_type": "stream",
     "text": [
      "Epoch 400/400: 100%|██████████| 400/400 [22:08<00:00,  3.18s/it, loss=417, v_num=1]"
     ]
    },
    {
     "name": "stderr",
     "output_type": "stream",
     "text": [
      "`Trainer.fit` stopped: `max_epochs=400` reached.\n"
     ]
    },
    {
     "name": "stdout",
     "output_type": "stream",
     "text": [
      "Epoch 400/400: 100%|██████████| 400/400 [22:08<00:00,  3.32s/it, loss=417, v_num=1]\n",
      "\u001b[34mINFO    \u001b[0m Creating doublets, preparing SOLO model.                                                                  \n"
     ]
    },
    {
     "name": "stderr",
     "output_type": "stream",
     "text": [
      "/home/ialahi/anaconda3/lib/python3.7/site-packages/anndata/_core/anndata.py:1785: FutureWarning: X.dtype being converted to np.float32 from float64. In the next version of anndata (0.9) conversion will not be automatic. Pass dtype explicitly to avoid this warning. Pass `AnnData(X, dtype=X.dtype, ...)` to get the future behavour.\n",
      "  [AnnData(sparse.csr_matrix(a.shape), obs=a.obs) for a in all_adatas],\n",
      "GPU available: False, used: False\n",
      "TPU available: False, using: 0 TPU cores\n",
      "IPU available: False, using: 0 IPUs\n",
      "HPU available: False, using: 0 HPUs\n"
     ]
    },
    {
     "name": "stdout",
     "output_type": "stream",
     "text": [
      "Epoch 168/400:  42%|████▏     | 168/400 [03:03<04:14,  1.10s/it, loss=0.339, v_num=1]\n",
      "Monitored metric validation_loss did not improve in the last 30 records. Best score: 0.355. Signaling Trainer to stop.\n"
     ]
    },
    {
     "name": "stderr",
     "output_type": "stream",
     "text": [
      "/home/ialahi/anaconda3/lib/python3.7/site-packages/scanpy/preprocessing/_simple.py:140: ImplicitModificationWarning: Trying to modify attribute `.obs` of view, initializing view as actual.\n",
      "  adata.obs['n_genes'] = number\n",
      "GPU available: False, used: False\n",
      "TPU available: False, using: 0 TPU cores\n",
      "IPU available: False, using: 0 IPUs\n",
      "HPU available: False, using: 0 HPUs\n"
     ]
    },
    {
     "name": "stdout",
     "output_type": "stream",
     "text": [
      "Epoch 400/400: 100%|██████████| 400/400 [36:23<00:00,  4.91s/it, loss=309, v_num=1]"
     ]
    },
    {
     "name": "stderr",
     "output_type": "stream",
     "text": [
      "`Trainer.fit` stopped: `max_epochs=400` reached.\n"
     ]
    },
    {
     "name": "stdout",
     "output_type": "stream",
     "text": [
      "Epoch 400/400: 100%|██████████| 400/400 [36:23<00:00,  5.46s/it, loss=309, v_num=1]\n",
      "\u001b[34mINFO    \u001b[0m Creating doublets, preparing SOLO model.                                                                  \n"
     ]
    },
    {
     "name": "stderr",
     "output_type": "stream",
     "text": [
      "/home/ialahi/anaconda3/lib/python3.7/site-packages/anndata/_core/anndata.py:1785: FutureWarning: X.dtype being converted to np.float32 from float64. In the next version of anndata (0.9) conversion will not be automatic. Pass dtype explicitly to avoid this warning. Pass `AnnData(X, dtype=X.dtype, ...)` to get the future behavour.\n",
      "  [AnnData(sparse.csr_matrix(a.shape), obs=a.obs) for a in all_adatas],\n",
      "GPU available: False, used: False\n",
      "TPU available: False, using: 0 TPU cores\n",
      "IPU available: False, using: 0 IPUs\n",
      "HPU available: False, using: 0 HPUs\n"
     ]
    },
    {
     "name": "stdout",
     "output_type": "stream",
     "text": [
      "Epoch 289/400:  72%|███████▏  | 289/400 [09:20<03:35,  1.94s/it, loss=0.24, v_num=1] \n",
      "Monitored metric validation_loss did not improve in the last 30 records. Best score: 0.218. Signaling Trainer to stop.\n"
     ]
    },
    {
     "name": "stderr",
     "output_type": "stream",
     "text": [
      "/home/ialahi/anaconda3/lib/python3.7/site-packages/scanpy/preprocessing/_simple.py:140: ImplicitModificationWarning: Trying to modify attribute `.obs` of view, initializing view as actual.\n",
      "  adata.obs['n_genes'] = number\n",
      "GPU available: False, used: False\n",
      "TPU available: False, using: 0 TPU cores\n",
      "IPU available: False, using: 0 IPUs\n",
      "HPU available: False, using: 0 HPUs\n"
     ]
    },
    {
     "name": "stdout",
     "output_type": "stream",
     "text": [
      "Epoch 400/400: 100%|██████████| 400/400 [35:51<00:00,  5.59s/it, loss=342, v_num=1]"
     ]
    },
    {
     "name": "stderr",
     "output_type": "stream",
     "text": [
      "`Trainer.fit` stopped: `max_epochs=400` reached.\n"
     ]
    },
    {
     "name": "stdout",
     "output_type": "stream",
     "text": [
      "Epoch 400/400: 100%|██████████| 400/400 [35:51<00:00,  5.38s/it, loss=342, v_num=1]\n",
      "\u001b[34mINFO    \u001b[0m Creating doublets, preparing SOLO model.                                                                  \n"
     ]
    },
    {
     "name": "stderr",
     "output_type": "stream",
     "text": [
      "/home/ialahi/anaconda3/lib/python3.7/site-packages/anndata/_core/anndata.py:1785: FutureWarning: X.dtype being converted to np.float32 from float64. In the next version of anndata (0.9) conversion will not be automatic. Pass dtype explicitly to avoid this warning. Pass `AnnData(X, dtype=X.dtype, ...)` to get the future behavour.\n",
      "  [AnnData(sparse.csr_matrix(a.shape), obs=a.obs) for a in all_adatas],\n",
      "GPU available: False, used: False\n",
      "TPU available: False, using: 0 TPU cores\n",
      "IPU available: False, using: 0 IPUs\n",
      "HPU available: False, using: 0 HPUs\n"
     ]
    },
    {
     "name": "stdout",
     "output_type": "stream",
     "text": [
      "Epoch 337/400:  84%|████████▍ | 337/400 [08:41<01:37,  1.55s/it, loss=0.301, v_num=1]\n",
      "Monitored metric validation_loss did not improve in the last 30 records. Best score: 0.290. Signaling Trainer to stop.\n"
     ]
    },
    {
     "name": "stderr",
     "output_type": "stream",
     "text": [
      "/home/ialahi/anaconda3/lib/python3.7/site-packages/scanpy/preprocessing/_simple.py:140: ImplicitModificationWarning: Trying to modify attribute `.obs` of view, initializing view as actual.\n",
      "  adata.obs['n_genes'] = number\n",
      "GPU available: False, used: False\n",
      "TPU available: False, using: 0 TPU cores\n",
      "IPU available: False, using: 0 IPUs\n",
      "HPU available: False, using: 0 HPUs\n"
     ]
    },
    {
     "name": "stdout",
     "output_type": "stream",
     "text": [
      "Epoch 400/400: 100%|██████████| 400/400 [15:35<00:00,  3.31s/it, loss=381, v_num=1]"
     ]
    },
    {
     "name": "stderr",
     "output_type": "stream",
     "text": [
      "`Trainer.fit` stopped: `max_epochs=400` reached.\n"
     ]
    },
    {
     "name": "stdout",
     "output_type": "stream",
     "text": [
      "Epoch 400/400: 100%|██████████| 400/400 [15:35<00:00,  2.34s/it, loss=381, v_num=1]\n",
      "\u001b[34mINFO    \u001b[0m Creating doublets, preparing SOLO model.                                                                  \n"
     ]
    },
    {
     "name": "stderr",
     "output_type": "stream",
     "text": [
      "/home/ialahi/anaconda3/lib/python3.7/site-packages/anndata/_core/anndata.py:1785: FutureWarning: X.dtype being converted to np.float32 from float64. In the next version of anndata (0.9) conversion will not be automatic. Pass dtype explicitly to avoid this warning. Pass `AnnData(X, dtype=X.dtype, ...)` to get the future behavour.\n",
      "  [AnnData(sparse.csr_matrix(a.shape), obs=a.obs) for a in all_adatas],\n",
      "GPU available: False, used: False\n",
      "TPU available: False, using: 0 TPU cores\n",
      "IPU available: False, using: 0 IPUs\n",
      "HPU available: False, using: 0 HPUs\n"
     ]
    },
    {
     "name": "stdout",
     "output_type": "stream",
     "text": [
      "Epoch 170/400:  42%|████▎     | 170/400 [02:22<01:13,  3.11it/s, loss=0.299, v_num=1]"
     ]
    },
    {
     "name": "stderr",
     "output_type": "stream",
     "text": [
      "IOPub message rate exceeded.\n",
      "The notebook server will temporarily stop sending output\n",
      "to the client in order to avoid crashing it.\n",
      "To change this limit, set the config variable\n",
      "`--NotebookApp.iopub_msg_rate_limit`.\n",
      "\n",
      "Current values:\n",
      "NotebookApp.iopub_msg_rate_limit=1000.0 (msgs/sec)\n",
      "NotebookApp.rate_limit_window=3.0 (secs)\n",
      "\n"
     ]
    },
    {
     "name": "stdout",
     "output_type": "stream",
     "text": [
      "Epoch 400/400: 100%|██████████| 400/400 [43:20<00:00,  6.02s/it, loss=341, v_num=1]"
     ]
    },
    {
     "name": "stderr",
     "output_type": "stream",
     "text": [
      "`Trainer.fit` stopped: `max_epochs=400` reached.\n"
     ]
    },
    {
     "name": "stdout",
     "output_type": "stream",
     "text": [
      "Epoch 400/400: 100%|██████████| 400/400 [43:20<00:00,  6.50s/it, loss=341, v_num=1]\n",
      "\u001b[34mINFO    \u001b[0m Creating doublets, preparing SOLO model.                                                                  \n"
     ]
    },
    {
     "name": "stderr",
     "output_type": "stream",
     "text": [
      "/home/ialahi/anaconda3/lib/python3.7/site-packages/anndata/_core/anndata.py:1785: FutureWarning: X.dtype being converted to np.float32 from float64. In the next version of anndata (0.9) conversion will not be automatic. Pass dtype explicitly to avoid this warning. Pass `AnnData(X, dtype=X.dtype, ...)` to get the future behavour.\n",
      "  [AnnData(sparse.csr_matrix(a.shape), obs=a.obs) for a in all_adatas],\n",
      "GPU available: False, used: False\n",
      "TPU available: False, using: 0 TPU cores\n",
      "IPU available: False, using: 0 IPUs\n",
      "HPU available: False, using: 0 HPUs\n"
     ]
    },
    {
     "name": "stdout",
     "output_type": "stream",
     "text": [
      "Epoch 154/400:  38%|███▊      | 154/400 [05:16<08:25,  2.06s/it, loss=0.258, v_num=1]\n",
      "Monitored metric validation_loss did not improve in the last 30 records. Best score: 0.270. Signaling Trainer to stop.\n"
     ]
    },
    {
     "name": "stderr",
     "output_type": "stream",
     "text": [
      "/home/ialahi/anaconda3/lib/python3.7/site-packages/scanpy/preprocessing/_simple.py:140: ImplicitModificationWarning: Trying to modify attribute `.obs` of view, initializing view as actual.\n",
      "  adata.obs['n_genes'] = number\n",
      "GPU available: False, used: False\n",
      "TPU available: False, using: 0 TPU cores\n",
      "IPU available: False, using: 0 IPUs\n",
      "HPU available: False, using: 0 HPUs\n"
     ]
    },
    {
     "name": "stdout",
     "output_type": "stream",
     "text": [
      "Epoch 400/400: 100%|██████████| 400/400 [51:24<00:00, 10.15s/it, loss=307, v_num=1]  "
     ]
    },
    {
     "name": "stderr",
     "output_type": "stream",
     "text": [
      "`Trainer.fit` stopped: `max_epochs=400` reached.\n"
     ]
    },
    {
     "name": "stdout",
     "output_type": "stream",
     "text": [
      "Epoch 400/400: 100%|██████████| 400/400 [51:24<00:00,  7.71s/it, loss=307, v_num=1]\n",
      "\u001b[34mINFO    \u001b[0m Creating doublets, preparing SOLO model.                                                                  \n"
     ]
    },
    {
     "name": "stderr",
     "output_type": "stream",
     "text": [
      "/home/ialahi/anaconda3/lib/python3.7/site-packages/anndata/_core/anndata.py:1785: FutureWarning: X.dtype being converted to np.float32 from float64. In the next version of anndata (0.9) conversion will not be automatic. Pass dtype explicitly to avoid this warning. Pass `AnnData(X, dtype=X.dtype, ...)` to get the future behavour.\n",
      "  [AnnData(sparse.csr_matrix(a.shape), obs=a.obs) for a in all_adatas],\n",
      "GPU available: False, used: False\n",
      "TPU available: False, using: 0 TPU cores\n",
      "IPU available: False, using: 0 IPUs\n",
      "HPU available: False, using: 0 HPUs\n"
     ]
    },
    {
     "name": "stdout",
     "output_type": "stream",
     "text": [
      "Epoch 216/400:  54%|█████▍    | 216/400 [08:47<07:29,  2.44s/it, loss=0.238, v_num=1]\n",
      "Monitored metric validation_loss did not improve in the last 30 records. Best score: 0.246. Signaling Trainer to stop.\n"
     ]
    },
    {
     "name": "stderr",
     "output_type": "stream",
     "text": [
      "/home/ialahi/anaconda3/lib/python3.7/site-packages/scanpy/preprocessing/_simple.py:140: ImplicitModificationWarning: Trying to modify attribute `.obs` of view, initializing view as actual.\n",
      "  adata.obs['n_genes'] = number\n",
      "GPU available: False, used: False\n",
      "TPU available: False, using: 0 TPU cores\n",
      "IPU available: False, using: 0 IPUs\n",
      "HPU available: False, using: 0 HPUs\n"
     ]
    },
    {
     "name": "stdout",
     "output_type": "stream",
     "text": [
      "Epoch 400/400: 100%|██████████| 400/400 [1:04:07<00:00,  9.70s/it, loss=326, v_num=1]"
     ]
    },
    {
     "name": "stderr",
     "output_type": "stream",
     "text": [
      "`Trainer.fit` stopped: `max_epochs=400` reached.\n"
     ]
    },
    {
     "name": "stdout",
     "output_type": "stream",
     "text": [
      "Epoch 400/400: 100%|██████████| 400/400 [1:04:07<00:00,  9.62s/it, loss=326, v_num=1]\n",
      "\u001b[34mINFO    \u001b[0m Creating doublets, preparing SOLO model.                                                                  \n"
     ]
    },
    {
     "name": "stderr",
     "output_type": "stream",
     "text": [
      "/home/ialahi/anaconda3/lib/python3.7/site-packages/anndata/_core/anndata.py:1785: FutureWarning: X.dtype being converted to np.float32 from float64. In the next version of anndata (0.9) conversion will not be automatic. Pass dtype explicitly to avoid this warning. Pass `AnnData(X, dtype=X.dtype, ...)` to get the future behavour.\n",
      "  [AnnData(sparse.csr_matrix(a.shape), obs=a.obs) for a in all_adatas],\n",
      "GPU available: False, used: False\n",
      "TPU available: False, using: 0 TPU cores\n",
      "IPU available: False, using: 0 IPUs\n",
      "HPU available: False, using: 0 HPUs\n"
     ]
    },
    {
     "name": "stdout",
     "output_type": "stream",
     "text": [
      "Epoch 275/400:  69%|██████▉   | 275/400 [13:06<05:57,  2.86s/it, loss=0.316, v_num=1]\n",
      "Monitored metric validation_loss did not improve in the last 30 records. Best score: 0.290. Signaling Trainer to stop.\n"
     ]
    },
    {
     "name": "stderr",
     "output_type": "stream",
     "text": [
      "/home/ialahi/anaconda3/lib/python3.7/site-packages/scanpy/preprocessing/_simple.py:140: ImplicitModificationWarning: Trying to modify attribute `.obs` of view, initializing view as actual.\n",
      "  adata.obs['n_genes'] = number\n",
      "GPU available: False, used: False\n",
      "TPU available: False, using: 0 TPU cores\n",
      "IPU available: False, using: 0 IPUs\n",
      "HPU available: False, using: 0 HPUs\n"
     ]
    },
    {
     "name": "stdout",
     "output_type": "stream",
     "text": [
      "Epoch 400/400: 100%|██████████| 400/400 [30:59<00:00,  4.63s/it, loss=318, v_num=1]"
     ]
    },
    {
     "name": "stderr",
     "output_type": "stream",
     "text": [
      "`Trainer.fit` stopped: `max_epochs=400` reached.\n"
     ]
    },
    {
     "name": "stdout",
     "output_type": "stream",
     "text": [
      "Epoch 400/400: 100%|██████████| 400/400 [30:59<00:00,  4.65s/it, loss=318, v_num=1]\n",
      "\u001b[34mINFO    \u001b[0m Creating doublets, preparing SOLO model.                                                                  \n"
     ]
    },
    {
     "name": "stderr",
     "output_type": "stream",
     "text": [
      "/home/ialahi/anaconda3/lib/python3.7/site-packages/anndata/_core/anndata.py:1785: FutureWarning: X.dtype being converted to np.float32 from float64. In the next version of anndata (0.9) conversion will not be automatic. Pass dtype explicitly to avoid this warning. Pass `AnnData(X, dtype=X.dtype, ...)` to get the future behavour.\n",
      "  [AnnData(sparse.csr_matrix(a.shape), obs=a.obs) for a in all_adatas],\n",
      "GPU available: False, used: False\n",
      "TPU available: False, using: 0 TPU cores\n",
      "IPU available: False, using: 0 IPUs\n",
      "HPU available: False, using: 0 HPUs\n"
     ]
    },
    {
     "name": "stdout",
     "output_type": "stream",
     "text": [
      "Epoch 327/400:  82%|████████▏ | 327/400 [05:53<01:18,  1.08s/it, loss=0.309, v_num=1]\n",
      "Monitored metric validation_loss did not improve in the last 30 records. Best score: 0.294. Signaling Trainer to stop.\n"
     ]
    },
    {
     "name": "stderr",
     "output_type": "stream",
     "text": [
      "/home/ialahi/anaconda3/lib/python3.7/site-packages/scanpy/preprocessing/_simple.py:140: ImplicitModificationWarning: Trying to modify attribute `.obs` of view, initializing view as actual.\n",
      "  adata.obs['n_genes'] = number\n",
      "GPU available: False, used: False\n",
      "TPU available: False, using: 0 TPU cores\n",
      "IPU available: False, using: 0 IPUs\n",
      "HPU available: False, using: 0 HPUs\n"
     ]
    },
    {
     "name": "stdout",
     "output_type": "stream",
     "text": [
      "Epoch 186/400:  46%|████▋     | 186/400 [27:39<47:28, 13.31s/it, loss=317, v_num=1]  "
     ]
    },
    {
     "name": "stderr",
     "output_type": "stream",
     "text": [
      "IOPub message rate exceeded.\n",
      "The notebook server will temporarily stop sending output\n",
      "to the client in order to avoid crashing it.\n",
      "To change this limit, set the config variable\n",
      "`--NotebookApp.iopub_msg_rate_limit`.\n",
      "\n",
      "Current values:\n",
      "NotebookApp.iopub_msg_rate_limit=1000.0 (msgs/sec)\n",
      "NotebookApp.rate_limit_window=3.0 (secs)\n",
      "\n"
     ]
    },
    {
     "name": "stdout",
     "output_type": "stream",
     "text": [
      "Epoch 400/400: 100%|██████████| 400/400 [33:23<00:00,  3.43s/it, loss=259, v_num=1]"
     ]
    },
    {
     "name": "stderr",
     "output_type": "stream",
     "text": [
      "`Trainer.fit` stopped: `max_epochs=400` reached.\n"
     ]
    },
    {
     "name": "stdout",
     "output_type": "stream",
     "text": [
      "Epoch 400/400: 100%|██████████| 400/400 [33:23<00:00,  5.01s/it, loss=259, v_num=1]\n",
      "\u001b[34mINFO    \u001b[0m Creating doublets, preparing SOLO model.                                                                  \n"
     ]
    },
    {
     "name": "stderr",
     "output_type": "stream",
     "text": [
      "/home/ialahi/anaconda3/lib/python3.7/site-packages/anndata/_core/anndata.py:1785: FutureWarning: X.dtype being converted to np.float32 from float64. In the next version of anndata (0.9) conversion will not be automatic. Pass dtype explicitly to avoid this warning. Pass `AnnData(X, dtype=X.dtype, ...)` to get the future behavour.\n",
      "  [AnnData(sparse.csr_matrix(a.shape), obs=a.obs) for a in all_adatas],\n",
      "GPU available: False, used: False\n",
      "TPU available: False, using: 0 TPU cores\n",
      "IPU available: False, using: 0 IPUs\n",
      "HPU available: False, using: 0 HPUs\n"
     ]
    },
    {
     "name": "stdout",
     "output_type": "stream",
     "text": [
      "Epoch 356/400:  89%|████████▉ | 356/400 [10:13<01:15,  1.72s/it, loss=0.278, v_num=1]\n",
      "Monitored metric validation_loss did not improve in the last 30 records. Best score: 0.249. Signaling Trainer to stop.\n"
     ]
    },
    {
     "name": "stderr",
     "output_type": "stream",
     "text": [
      "/home/ialahi/anaconda3/lib/python3.7/site-packages/scanpy/preprocessing/_simple.py:140: ImplicitModificationWarning: Trying to modify attribute `.obs` of view, initializing view as actual.\n",
      "  adata.obs['n_genes'] = number\n",
      "GPU available: False, used: False\n",
      "TPU available: False, using: 0 TPU cores\n",
      "IPU available: False, using: 0 IPUs\n",
      "HPU available: False, using: 0 HPUs\n"
     ]
    },
    {
     "name": "stdout",
     "output_type": "stream",
     "text": [
      "Epoch 295/400:  74%|███████▍  | 295/400 [22:17<10:03,  5.75s/it, loss=346, v_num=1]"
     ]
    },
    {
     "name": "stderr",
     "output_type": "stream",
     "text": [
      "IOPub message rate exceeded.\n",
      "The notebook server will temporarily stop sending output\n",
      "to the client in order to avoid crashing it.\n",
      "To change this limit, set the config variable\n",
      "`--NotebookApp.iopub_msg_rate_limit`.\n",
      "\n",
      "Current values:\n",
      "NotebookApp.iopub_msg_rate_limit=1000.0 (msgs/sec)\n",
      "NotebookApp.rate_limit_window=3.0 (secs)\n",
      "\n"
     ]
    },
    {
     "name": "stdout",
     "output_type": "stream",
     "text": [
      "Epoch 253/400:  63%|██████▎   | 253/400 [06:22<03:42,  1.51s/it, loss=0.315, v_num=1]\n",
      "Monitored metric validation_loss did not improve in the last 30 records. Best score: 0.325. Signaling Trainer to stop.\n"
     ]
    },
    {
     "name": "stderr",
     "output_type": "stream",
     "text": [
      "/home/ialahi/anaconda3/lib/python3.7/site-packages/scanpy/preprocessing/_simple.py:140: ImplicitModificationWarning: Trying to modify attribute `.obs` of view, initializing view as actual.\n",
      "  adata.obs['n_genes'] = number\n",
      "GPU available: False, used: False\n",
      "TPU available: False, using: 0 TPU cores\n",
      "IPU available: False, using: 0 IPUs\n",
      "HPU available: False, using: 0 HPUs\n"
     ]
    },
    {
     "name": "stdout",
     "output_type": "stream",
     "text": [
      "Epoch 400/400: 100%|██████████| 400/400 [46:42<00:00, 10.30s/it, loss=335, v_num=1]"
     ]
    },
    {
     "name": "stderr",
     "output_type": "stream",
     "text": [
      "`Trainer.fit` stopped: `max_epochs=400` reached.\n"
     ]
    },
    {
     "name": "stdout",
     "output_type": "stream",
     "text": [
      "Epoch 400/400: 100%|██████████| 400/400 [46:42<00:00,  7.01s/it, loss=335, v_num=1]\n",
      "\u001b[34mINFO    \u001b[0m Creating doublets, preparing SOLO model.                                                                  \n"
     ]
    },
    {
     "name": "stderr",
     "output_type": "stream",
     "text": [
      "/home/ialahi/anaconda3/lib/python3.7/site-packages/anndata/_core/anndata.py:1785: FutureWarning: X.dtype being converted to np.float32 from float64. In the next version of anndata (0.9) conversion will not be automatic. Pass dtype explicitly to avoid this warning. Pass `AnnData(X, dtype=X.dtype, ...)` to get the future behavour.\n",
      "  [AnnData(sparse.csr_matrix(a.shape), obs=a.obs) for a in all_adatas],\n",
      "GPU available: False, used: False\n",
      "TPU available: False, using: 0 TPU cores\n",
      "IPU available: False, using: 0 IPUs\n",
      "HPU available: False, using: 0 HPUs\n"
     ]
    },
    {
     "name": "stdout",
     "output_type": "stream",
     "text": [
      "Epoch 215/400:  54%|█████▍    | 215/400 [08:55<07:40,  2.49s/it, loss=0.375, v_num=1]\n",
      "Monitored metric validation_loss did not improve in the last 30 records. Best score: 0.361. Signaling Trainer to stop.\n"
     ]
    },
    {
     "name": "stderr",
     "output_type": "stream",
     "text": [
      "/home/ialahi/anaconda3/lib/python3.7/site-packages/scanpy/preprocessing/_simple.py:140: ImplicitModificationWarning: Trying to modify attribute `.obs` of view, initializing view as actual.\n",
      "  adata.obs['n_genes'] = number\n",
      "GPU available: False, used: False\n",
      "TPU available: False, using: 0 TPU cores\n",
      "IPU available: False, using: 0 IPUs\n",
      "HPU available: False, using: 0 HPUs\n"
     ]
    },
    {
     "name": "stdout",
     "output_type": "stream",
     "text": [
      "Epoch 400/400: 100%|██████████| 400/400 [33:59<00:00,  3.80s/it, loss=362, v_num=1]"
     ]
    },
    {
     "name": "stderr",
     "output_type": "stream",
     "text": [
      "`Trainer.fit` stopped: `max_epochs=400` reached.\n"
     ]
    },
    {
     "name": "stdout",
     "output_type": "stream",
     "text": [
      "Epoch 400/400: 100%|██████████| 400/400 [33:59<00:00,  5.10s/it, loss=362, v_num=1]\n",
      "\u001b[34mINFO    \u001b[0m Creating doublets, preparing SOLO model.                                                                  \n"
     ]
    },
    {
     "name": "stderr",
     "output_type": "stream",
     "text": [
      "/home/ialahi/anaconda3/lib/python3.7/site-packages/anndata/_core/anndata.py:1785: FutureWarning: X.dtype being converted to np.float32 from float64. In the next version of anndata (0.9) conversion will not be automatic. Pass dtype explicitly to avoid this warning. Pass `AnnData(X, dtype=X.dtype, ...)` to get the future behavour.\n",
      "  [AnnData(sparse.csr_matrix(a.shape), obs=a.obs) for a in all_adatas],\n",
      "GPU available: False, used: False\n",
      "TPU available: False, using: 0 TPU cores\n",
      "IPU available: False, using: 0 IPUs\n",
      "HPU available: False, using: 0 HPUs\n"
     ]
    },
    {
     "name": "stdout",
     "output_type": "stream",
     "text": [
      "Epoch 181/400:  45%|████▌     | 181/400 [04:19<05:13,  1.43s/it, loss=0.35, v_num=1] \n",
      "Monitored metric validation_loss did not improve in the last 30 records. Best score: 0.352. Signaling Trainer to stop.\n"
     ]
    },
    {
     "name": "stderr",
     "output_type": "stream",
     "text": [
      "/home/ialahi/anaconda3/lib/python3.7/site-packages/scanpy/preprocessing/_simple.py:140: ImplicitModificationWarning: Trying to modify attribute `.obs` of view, initializing view as actual.\n",
      "  adata.obs['n_genes'] = number\n",
      "GPU available: False, used: False\n",
      "TPU available: False, using: 0 TPU cores\n",
      "IPU available: False, using: 0 IPUs\n",
      "HPU available: False, using: 0 HPUs\n"
     ]
    },
    {
     "name": "stdout",
     "output_type": "stream",
     "text": [
      "Epoch 400/400: 100%|██████████| 400/400 [24:41<00:00,  2.84s/it, loss=303, v_num=1]"
     ]
    },
    {
     "name": "stderr",
     "output_type": "stream",
     "text": [
      "`Trainer.fit` stopped: `max_epochs=400` reached.\n"
     ]
    },
    {
     "name": "stdout",
     "output_type": "stream",
     "text": [
      "Epoch 400/400: 100%|██████████| 400/400 [24:41<00:00,  3.70s/it, loss=303, v_num=1]\n",
      "\u001b[34mINFO    \u001b[0m Creating doublets, preparing SOLO model.                                                                  \n"
     ]
    },
    {
     "name": "stderr",
     "output_type": "stream",
     "text": [
      "/home/ialahi/anaconda3/lib/python3.7/site-packages/anndata/_core/anndata.py:1785: FutureWarning: X.dtype being converted to np.float32 from float64. In the next version of anndata (0.9) conversion will not be automatic. Pass dtype explicitly to avoid this warning. Pass `AnnData(X, dtype=X.dtype, ...)` to get the future behavour.\n",
      "  [AnnData(sparse.csr_matrix(a.shape), obs=a.obs) for a in all_adatas],\n",
      "GPU available: False, used: False\n",
      "TPU available: False, using: 0 TPU cores\n",
      "IPU available: False, using: 0 IPUs\n",
      "HPU available: False, using: 0 HPUs\n"
     ]
    },
    {
     "name": "stdout",
     "output_type": "stream",
     "text": [
      "Epoch 215/400:  54%|█████▍    | 215/400 [04:49<04:08,  1.34s/it, loss=0.217, v_num=1]\n",
      "Monitored metric validation_loss did not improve in the last 30 records. Best score: 0.223. Signaling Trainer to stop.\n"
     ]
    },
    {
     "name": "stderr",
     "output_type": "stream",
     "text": [
      "/home/ialahi/anaconda3/lib/python3.7/site-packages/scanpy/preprocessing/_simple.py:140: ImplicitModificationWarning: Trying to modify attribute `.obs` of view, initializing view as actual.\n",
      "  adata.obs['n_genes'] = number\n",
      "GPU available: False, used: False\n",
      "TPU available: False, using: 0 TPU cores\n",
      "IPU available: False, using: 0 IPUs\n",
      "HPU available: False, using: 0 HPUs\n"
     ]
    },
    {
     "name": "stdout",
     "output_type": "stream",
     "text": [
      "Epoch 400/400: 100%|██████████| 400/400 [43:21<00:00,  8.43s/it, loss=328, v_num=1]"
     ]
    },
    {
     "name": "stderr",
     "output_type": "stream",
     "text": [
      "`Trainer.fit` stopped: `max_epochs=400` reached.\n"
     ]
    },
    {
     "name": "stdout",
     "output_type": "stream",
     "text": [
      "Epoch 400/400: 100%|██████████| 400/400 [43:21<00:00,  6.50s/it, loss=328, v_num=1]\n",
      "\u001b[34mINFO    \u001b[0m Creating doublets, preparing SOLO model.                                                                  \n"
     ]
    },
    {
     "name": "stderr",
     "output_type": "stream",
     "text": [
      "/home/ialahi/anaconda3/lib/python3.7/site-packages/anndata/_core/anndata.py:1785: FutureWarning: X.dtype being converted to np.float32 from float64. In the next version of anndata (0.9) conversion will not be automatic. Pass dtype explicitly to avoid this warning. Pass `AnnData(X, dtype=X.dtype, ...)` to get the future behavour.\n",
      "  [AnnData(sparse.csr_matrix(a.shape), obs=a.obs) for a in all_adatas],\n",
      "GPU available: False, used: False\n",
      "TPU available: False, using: 0 TPU cores\n",
      "IPU available: False, using: 0 IPUs\n",
      "HPU available: False, using: 0 HPUs\n"
     ]
    },
    {
     "name": "stdout",
     "output_type": "stream",
     "text": [
      "Epoch 233/400:  58%|█████▊    | 233/400 [05:42<04:05,  1.47s/it, loss=0.254, v_num=1]\n",
      "Monitored metric validation_loss did not improve in the last 30 records. Best score: 0.240. Signaling Trainer to stop.\n"
     ]
    },
    {
     "name": "stderr",
     "output_type": "stream",
     "text": [
      "/home/ialahi/anaconda3/lib/python3.7/site-packages/scanpy/preprocessing/_simple.py:140: ImplicitModificationWarning: Trying to modify attribute `.obs` of view, initializing view as actual.\n",
      "  adata.obs['n_genes'] = number\n",
      "GPU available: False, used: False\n",
      "TPU available: False, using: 0 TPU cores\n",
      "IPU available: False, using: 0 IPUs\n",
      "HPU available: False, using: 0 HPUs\n"
     ]
    },
    {
     "name": "stdout",
     "output_type": "stream",
     "text": [
      "Epoch 400/400: 100%|██████████| 400/400 [49:14<00:00, 11.03s/it, loss=473, v_num=1]"
     ]
    },
    {
     "name": "stderr",
     "output_type": "stream",
     "text": [
      "`Trainer.fit` stopped: `max_epochs=400` reached.\n"
     ]
    },
    {
     "name": "stdout",
     "output_type": "stream",
     "text": [
      "Epoch 400/400: 100%|██████████| 400/400 [49:14<00:00,  7.39s/it, loss=473, v_num=1]\n",
      "\u001b[34mINFO    \u001b[0m Creating doublets, preparing SOLO model.                                                                  \n"
     ]
    },
    {
     "name": "stderr",
     "output_type": "stream",
     "text": [
      "/home/ialahi/anaconda3/lib/python3.7/site-packages/anndata/_core/anndata.py:1785: FutureWarning: X.dtype being converted to np.float32 from float64. In the next version of anndata (0.9) conversion will not be automatic. Pass dtype explicitly to avoid this warning. Pass `AnnData(X, dtype=X.dtype, ...)` to get the future behavour.\n",
      "  [AnnData(sparse.csr_matrix(a.shape), obs=a.obs) for a in all_adatas],\n",
      "GPU available: False, used: False\n",
      "TPU available: False, using: 0 TPU cores\n",
      "IPU available: False, using: 0 IPUs\n",
      "HPU available: False, using: 0 HPUs\n"
     ]
    },
    {
     "name": "stdout",
     "output_type": "stream",
     "text": [
      "Epoch 167/400:  42%|████▏     | 167/400 [07:53<11:00,  2.83s/it, loss=0.356, v_num=1]\n",
      "Monitored metric validation_loss did not improve in the last 30 records. Best score: 0.360. Signaling Trainer to stop.\n"
     ]
    },
    {
     "name": "stderr",
     "output_type": "stream",
     "text": [
      "/home/ialahi/anaconda3/lib/python3.7/site-packages/scanpy/preprocessing/_simple.py:140: ImplicitModificationWarning: Trying to modify attribute `.obs` of view, initializing view as actual.\n",
      "  adata.obs['n_genes'] = number\n",
      "GPU available: False, used: False\n",
      "TPU available: False, using: 0 TPU cores\n",
      "IPU available: False, using: 0 IPUs\n",
      "HPU available: False, using: 0 HPUs\n"
     ]
    },
    {
     "name": "stdout",
     "output_type": "stream",
     "text": [
      "Epoch 400/400: 100%|██████████| 400/400 [1:12:03<00:00, 11.34s/it, loss=365, v_num=1]"
     ]
    },
    {
     "name": "stderr",
     "output_type": "stream",
     "text": [
      "`Trainer.fit` stopped: `max_epochs=400` reached.\n"
     ]
    },
    {
     "name": "stdout",
     "output_type": "stream",
     "text": [
      "Epoch 400/400: 100%|██████████| 400/400 [1:12:03<00:00, 10.81s/it, loss=365, v_num=1]\n",
      "\u001b[34mINFO    \u001b[0m Creating doublets, preparing SOLO model.                                                                  \n"
     ]
    },
    {
     "name": "stderr",
     "output_type": "stream",
     "text": [
      "/home/ialahi/anaconda3/lib/python3.7/site-packages/anndata/_core/anndata.py:1785: FutureWarning: X.dtype being converted to np.float32 from float64. In the next version of anndata (0.9) conversion will not be automatic. Pass dtype explicitly to avoid this warning. Pass `AnnData(X, dtype=X.dtype, ...)` to get the future behavour.\n",
      "  [AnnData(sparse.csr_matrix(a.shape), obs=a.obs) for a in all_adatas],\n",
      "GPU available: False, used: False\n",
      "TPU available: False, using: 0 TPU cores\n",
      "IPU available: False, using: 0 IPUs\n",
      "HPU available: False, using: 0 HPUs\n"
     ]
    },
    {
     "name": "stdout",
     "output_type": "stream",
     "text": [
      "Epoch 137/400:  34%|███▍      | 137/400 [08:11<15:43,  3.59s/it, loss=0.294, v_num=1]\n",
      "Monitored metric validation_loss did not improve in the last 30 records. Best score: 0.308. Signaling Trainer to stop.\n"
     ]
    },
    {
     "name": "stderr",
     "output_type": "stream",
     "text": [
      "/home/ialahi/anaconda3/lib/python3.7/site-packages/scanpy/preprocessing/_simple.py:140: ImplicitModificationWarning: Trying to modify attribute `.obs` of view, initializing view as actual.\n",
      "  adata.obs['n_genes'] = number\n",
      "GPU available: False, used: False\n",
      "TPU available: False, using: 0 TPU cores\n",
      "IPU available: False, using: 0 IPUs\n",
      "HPU available: False, using: 0 HPUs\n"
     ]
    },
    {
     "name": "stdout",
     "output_type": "stream",
     "text": [
      "Epoch 400/400: 100%|██████████| 400/400 [47:05<00:00,  1.47s/it, loss=358, v_num=1]"
     ]
    },
    {
     "name": "stderr",
     "output_type": "stream",
     "text": [
      "`Trainer.fit` stopped: `max_epochs=400` reached.\n"
     ]
    },
    {
     "name": "stdout",
     "output_type": "stream",
     "text": [
      "Epoch 400/400: 100%|██████████| 400/400 [47:05<00:00,  7.06s/it, loss=358, v_num=1]\n",
      "\u001b[34mINFO    \u001b[0m Creating doublets, preparing SOLO model.                                                                  \n"
     ]
    },
    {
     "name": "stderr",
     "output_type": "stream",
     "text": [
      "/home/ialahi/anaconda3/lib/python3.7/site-packages/anndata/_core/anndata.py:1785: FutureWarning: X.dtype being converted to np.float32 from float64. In the next version of anndata (0.9) conversion will not be automatic. Pass dtype explicitly to avoid this warning. Pass `AnnData(X, dtype=X.dtype, ...)` to get the future behavour.\n",
      "  [AnnData(sparse.csr_matrix(a.shape), obs=a.obs) for a in all_adatas],\n",
      "GPU available: False, used: False\n",
      "TPU available: False, using: 0 TPU cores\n",
      "IPU available: False, using: 0 IPUs\n",
      "HPU available: False, using: 0 HPUs\n"
     ]
    },
    {
     "name": "stdout",
     "output_type": "stream",
     "text": [
      "Epoch 290/400:  72%|███████▎  | 290/400 [09:39<03:39,  2.00s/it, loss=0.292, v_num=1]\n",
      "Monitored metric validation_loss did not improve in the last 30 records. Best score: 0.269. Signaling Trainer to stop.\n"
     ]
    },
    {
     "name": "stderr",
     "output_type": "stream",
     "text": [
      "/home/ialahi/anaconda3/lib/python3.7/site-packages/scanpy/preprocessing/_simple.py:140: ImplicitModificationWarning: Trying to modify attribute `.obs` of view, initializing view as actual.\n",
      "  adata.obs['n_genes'] = number\n",
      "GPU available: False, used: False\n",
      "TPU available: False, using: 0 TPU cores\n",
      "IPU available: False, using: 0 IPUs\n",
      "HPU available: False, using: 0 HPUs\n"
     ]
    },
    {
     "name": "stdout",
     "output_type": "stream",
     "text": [
      "Epoch 400/400: 100%|██████████| 400/400 [28:06<00:00,  6.28s/it, loss=332, v_num=1]"
     ]
    },
    {
     "name": "stderr",
     "output_type": "stream",
     "text": [
      "`Trainer.fit` stopped: `max_epochs=400` reached.\n"
     ]
    },
    {
     "name": "stdout",
     "output_type": "stream",
     "text": [
      "Epoch 400/400: 100%|██████████| 400/400 [28:06<00:00,  4.22s/it, loss=332, v_num=1]\n",
      "\u001b[34mINFO    \u001b[0m Creating doublets, preparing SOLO model.                                                                  \n"
     ]
    },
    {
     "name": "stderr",
     "output_type": "stream",
     "text": [
      "/home/ialahi/anaconda3/lib/python3.7/site-packages/anndata/_core/anndata.py:1785: FutureWarning: X.dtype being converted to np.float32 from float64. In the next version of anndata (0.9) conversion will not be automatic. Pass dtype explicitly to avoid this warning. Pass `AnnData(X, dtype=X.dtype, ...)` to get the future behavour.\n",
      "  [AnnData(sparse.csr_matrix(a.shape), obs=a.obs) for a in all_adatas],\n",
      "GPU available: False, used: False\n",
      "TPU available: False, using: 0 TPU cores\n",
      "IPU available: False, using: 0 IPUs\n",
      "HPU available: False, using: 0 HPUs\n"
     ]
    },
    {
     "name": "stdout",
     "output_type": "stream",
     "text": [
      "Epoch 201/400:  50%|█████     | 201/400 [06:04<06:00,  1.81s/it, loss=0.283, v_num=1]\n",
      "Monitored metric validation_loss did not improve in the last 30 records. Best score: 0.275. Signaling Trainer to stop.\n"
     ]
    },
    {
     "name": "stderr",
     "output_type": "stream",
     "text": [
      "/home/ialahi/anaconda3/lib/python3.7/site-packages/scanpy/preprocessing/_simple.py:140: ImplicitModificationWarning: Trying to modify attribute `.obs` of view, initializing view as actual.\n",
      "  adata.obs['n_genes'] = number\n",
      "GPU available: False, used: False\n",
      "TPU available: False, using: 0 TPU cores\n",
      "IPU available: False, using: 0 IPUs\n",
      "HPU available: False, using: 0 HPUs\n"
     ]
    },
    {
     "name": "stdout",
     "output_type": "stream",
     "text": [
      "Epoch 400/400: 100%|██████████| 400/400 [39:40<00:00,  8.18s/it, loss=314, v_num=1]"
     ]
    },
    {
     "name": "stderr",
     "output_type": "stream",
     "text": [
      "`Trainer.fit` stopped: `max_epochs=400` reached.\n"
     ]
    },
    {
     "name": "stdout",
     "output_type": "stream",
     "text": [
      "Epoch 400/400: 100%|██████████| 400/400 [39:40<00:00,  5.95s/it, loss=314, v_num=1]\n",
      "\u001b[34mINFO    \u001b[0m Creating doublets, preparing SOLO model.                                                                  \n"
     ]
    },
    {
     "name": "stderr",
     "output_type": "stream",
     "text": [
      "/home/ialahi/anaconda3/lib/python3.7/site-packages/anndata/_core/anndata.py:1785: FutureWarning: X.dtype being converted to np.float32 from float64. In the next version of anndata (0.9) conversion will not be automatic. Pass dtype explicitly to avoid this warning. Pass `AnnData(X, dtype=X.dtype, ...)` to get the future behavour.\n",
      "  [AnnData(sparse.csr_matrix(a.shape), obs=a.obs) for a in all_adatas],\n",
      "GPU available: False, used: False\n",
      "TPU available: False, using: 0 TPU cores\n",
      "IPU available: False, using: 0 IPUs\n",
      "HPU available: False, using: 0 HPUs\n"
     ]
    },
    {
     "name": "stdout",
     "output_type": "stream",
     "text": [
      "Epoch 302/400:  76%|███████▌  | 302/400 [09:15<03:00,  1.84s/it, loss=0.329, v_num=1]\n",
      "Monitored metric validation_loss did not improve in the last 30 records. Best score: 0.299. Signaling Trainer to stop.\n"
     ]
    },
    {
     "name": "stderr",
     "output_type": "stream",
     "text": [
      "/home/ialahi/anaconda3/lib/python3.7/site-packages/scanpy/preprocessing/_simple.py:140: ImplicitModificationWarning: Trying to modify attribute `.obs` of view, initializing view as actual.\n",
      "  adata.obs['n_genes'] = number\n",
      "GPU available: False, used: False\n",
      "TPU available: False, using: 0 TPU cores\n",
      "IPU available: False, using: 0 IPUs\n",
      "HPU available: False, using: 0 HPUs\n"
     ]
    },
    {
     "name": "stdout",
     "output_type": "stream",
     "text": [
      "Epoch 400/400: 100%|██████████| 400/400 [40:26<00:00,  6.05s/it, loss=401, v_num=1]"
     ]
    },
    {
     "name": "stderr",
     "output_type": "stream",
     "text": [
      "`Trainer.fit` stopped: `max_epochs=400` reached.\n"
     ]
    },
    {
     "name": "stdout",
     "output_type": "stream",
     "text": [
      "Epoch 400/400: 100%|██████████| 400/400 [40:26<00:00,  6.07s/it, loss=401, v_num=1]\n",
      "\u001b[34mINFO    \u001b[0m Creating doublets, preparing SOLO model.                                                                  \n"
     ]
    },
    {
     "name": "stderr",
     "output_type": "stream",
     "text": [
      "/home/ialahi/anaconda3/lib/python3.7/site-packages/anndata/_core/anndata.py:1785: FutureWarning: X.dtype being converted to np.float32 from float64. In the next version of anndata (0.9) conversion will not be automatic. Pass dtype explicitly to avoid this warning. Pass `AnnData(X, dtype=X.dtype, ...)` to get the future behavour.\n",
      "  [AnnData(sparse.csr_matrix(a.shape), obs=a.obs) for a in all_adatas],\n",
      "GPU available: False, used: False\n",
      "TPU available: False, using: 0 TPU cores\n",
      "IPU available: False, using: 0 IPUs\n",
      "HPU available: False, using: 0 HPUs\n"
     ]
    },
    {
     "name": "stdout",
     "output_type": "stream",
     "text": [
      "Epoch 164/400:  41%|████      | 164/400 [04:20<06:14,  1.59s/it, loss=0.33, v_num=1] \n",
      "Monitored metric validation_loss did not improve in the last 30 records. Best score: 0.303. Signaling Trainer to stop.\n"
     ]
    },
    {
     "name": "stderr",
     "output_type": "stream",
     "text": [
      "/home/ialahi/anaconda3/lib/python3.7/site-packages/scanpy/preprocessing/_simple.py:140: ImplicitModificationWarning: Trying to modify attribute `.obs` of view, initializing view as actual.\n",
      "  adata.obs['n_genes'] = number\n",
      "GPU available: False, used: False\n",
      "TPU available: False, using: 0 TPU cores\n",
      "IPU available: False, using: 0 IPUs\n",
      "HPU available: False, using: 0 HPUs\n"
     ]
    },
    {
     "name": "stdout",
     "output_type": "stream",
     "text": [
      "Epoch 400/400: 100%|██████████| 400/400 [1:02:23<00:00,  8.07s/it, loss=346, v_num=1]"
     ]
    },
    {
     "name": "stderr",
     "output_type": "stream",
     "text": [
      "`Trainer.fit` stopped: `max_epochs=400` reached.\n"
     ]
    },
    {
     "name": "stdout",
     "output_type": "stream",
     "text": [
      "Epoch 400/400: 100%|██████████| 400/400 [1:02:23<00:00,  9.36s/it, loss=346, v_num=1]\n",
      "\u001b[34mINFO    \u001b[0m Creating doublets, preparing SOLO model.                                                                  \n"
     ]
    },
    {
     "name": "stderr",
     "output_type": "stream",
     "text": [
      "/home/ialahi/anaconda3/lib/python3.7/site-packages/anndata/_core/anndata.py:1785: FutureWarning: X.dtype being converted to np.float32 from float64. In the next version of anndata (0.9) conversion will not be automatic. Pass dtype explicitly to avoid this warning. Pass `AnnData(X, dtype=X.dtype, ...)` to get the future behavour.\n",
      "  [AnnData(sparse.csr_matrix(a.shape), obs=a.obs) for a in all_adatas],\n",
      "GPU available: False, used: False\n",
      "TPU available: False, using: 0 TPU cores\n",
      "IPU available: False, using: 0 IPUs\n",
      "HPU available: False, using: 0 HPUs\n"
     ]
    },
    {
     "name": "stdout",
     "output_type": "stream",
     "text": [
      "Epoch 189/400:  47%|████▋     | 189/400 [08:59<10:02,  2.85s/it, loss=0.332, v_num=1]\n",
      "Monitored metric validation_loss did not improve in the last 30 records. Best score: 0.299. Signaling Trainer to stop.\n"
     ]
    },
    {
     "name": "stderr",
     "output_type": "stream",
     "text": [
      "/home/ialahi/anaconda3/lib/python3.7/site-packages/scanpy/preprocessing/_simple.py:140: ImplicitModificationWarning: Trying to modify attribute `.obs` of view, initializing view as actual.\n",
      "  adata.obs['n_genes'] = number\n",
      "GPU available: False, used: False\n",
      "TPU available: False, using: 0 TPU cores\n",
      "IPU available: False, using: 0 IPUs\n",
      "HPU available: False, using: 0 HPUs\n"
     ]
    },
    {
     "name": "stdout",
     "output_type": "stream",
     "text": [
      "Epoch 400/400: 100%|██████████| 400/400 [48:50<00:00,  5.66s/it, loss=375, v_num=1]"
     ]
    },
    {
     "name": "stderr",
     "output_type": "stream",
     "text": [
      "`Trainer.fit` stopped: `max_epochs=400` reached.\n"
     ]
    },
    {
     "name": "stdout",
     "output_type": "stream",
     "text": [
      "Epoch 400/400: 100%|██████████| 400/400 [48:50<00:00,  7.33s/it, loss=375, v_num=1]\n",
      "\u001b[34mINFO    \u001b[0m Creating doublets, preparing SOLO model.                                                                  \n"
     ]
    },
    {
     "name": "stderr",
     "output_type": "stream",
     "text": [
      "/home/ialahi/anaconda3/lib/python3.7/site-packages/anndata/_core/anndata.py:1785: FutureWarning: X.dtype being converted to np.float32 from float64. In the next version of anndata (0.9) conversion will not be automatic. Pass dtype explicitly to avoid this warning. Pass `AnnData(X, dtype=X.dtype, ...)` to get the future behavour.\n",
      "  [AnnData(sparse.csr_matrix(a.shape), obs=a.obs) for a in all_adatas],\n",
      "GPU available: False, used: False\n",
      "TPU available: False, using: 0 TPU cores\n",
      "IPU available: False, using: 0 IPUs\n",
      "HPU available: False, using: 0 HPUs\n"
     ]
    },
    {
     "name": "stdout",
     "output_type": "stream",
     "text": [
      "Epoch 172/400:  43%|████▎     | 172/400 [05:59<07:56,  2.09s/it, loss=0.3, v_num=1]  \n",
      "Monitored metric validation_loss did not improve in the last 30 records. Best score: 0.321. Signaling Trainer to stop.\n"
     ]
    },
    {
     "name": "stderr",
     "output_type": "stream",
     "text": [
      "/home/ialahi/anaconda3/lib/python3.7/site-packages/scanpy/preprocessing/_simple.py:140: ImplicitModificationWarning: Trying to modify attribute `.obs` of view, initializing view as actual.\n",
      "  adata.obs['n_genes'] = number\n",
      "GPU available: False, used: False\n",
      "TPU available: False, using: 0 TPU cores\n",
      "IPU available: False, using: 0 IPUs\n",
      "HPU available: False, using: 0 HPUs\n"
     ]
    },
    {
     "name": "stdout",
     "output_type": "stream",
     "text": [
      "Epoch 400/400: 100%|██████████| 400/400 [47:24<00:00,  5.69s/it, loss=323, v_num=1]  "
     ]
    },
    {
     "name": "stderr",
     "output_type": "stream",
     "text": [
      "`Trainer.fit` stopped: `max_epochs=400` reached.\n"
     ]
    },
    {
     "name": "stdout",
     "output_type": "stream",
     "text": [
      "Epoch 400/400: 100%|██████████| 400/400 [47:24<00:00,  7.11s/it, loss=323, v_num=1]\n",
      "\u001b[34mINFO    \u001b[0m Creating doublets, preparing SOLO model.                                                                  \n"
     ]
    },
    {
     "name": "stderr",
     "output_type": "stream",
     "text": [
      "/home/ialahi/anaconda3/lib/python3.7/site-packages/anndata/_core/anndata.py:1785: FutureWarning: X.dtype being converted to np.float32 from float64. In the next version of anndata (0.9) conversion will not be automatic. Pass dtype explicitly to avoid this warning. Pass `AnnData(X, dtype=X.dtype, ...)` to get the future behavour.\n",
      "  [AnnData(sparse.csr_matrix(a.shape), obs=a.obs) for a in all_adatas],\n",
      "GPU available: False, used: False\n",
      "TPU available: False, using: 0 TPU cores\n",
      "IPU available: False, using: 0 IPUs\n",
      "HPU available: False, using: 0 HPUs\n"
     ]
    },
    {
     "name": "stdout",
     "output_type": "stream",
     "text": [
      "Epoch 105/400:  26%|██▋       | 105/400 [03:17<13:22,  2.72s/it, loss=0.287, v_num=1]"
     ]
    },
    {
     "name": "stderr",
     "output_type": "stream",
     "text": [
      "IOPub message rate exceeded.\n",
      "The notebook server will temporarily stop sending output\n",
      "to the client in order to avoid crashing it.\n",
      "To change this limit, set the config variable\n",
      "`--NotebookApp.iopub_msg_rate_limit`.\n",
      "\n",
      "Current values:\n",
      "NotebookApp.iopub_msg_rate_limit=1000.0 (msgs/sec)\n",
      "NotebookApp.rate_limit_window=3.0 (secs)\n",
      "\n"
     ]
    },
    {
     "name": "stdout",
     "output_type": "stream",
     "text": [
      "Epoch 400/400: 100%|██████████| 400/400 [35:17<00:00,  4.93s/it, loss=334, v_num=1]"
     ]
    },
    {
     "name": "stderr",
     "output_type": "stream",
     "text": [
      "`Trainer.fit` stopped: `max_epochs=400` reached.\n"
     ]
    },
    {
     "name": "stdout",
     "output_type": "stream",
     "text": [
      "Epoch 400/400: 100%|██████████| 400/400 [35:17<00:00,  5.29s/it, loss=334, v_num=1]\n",
      "\u001b[34mINFO    \u001b[0m Creating doublets, preparing SOLO model.                                                                  \n"
     ]
    },
    {
     "name": "stderr",
     "output_type": "stream",
     "text": [
      "/home/ialahi/anaconda3/lib/python3.7/site-packages/anndata/_core/anndata.py:1785: FutureWarning: X.dtype being converted to np.float32 from float64. In the next version of anndata (0.9) conversion will not be automatic. Pass dtype explicitly to avoid this warning. Pass `AnnData(X, dtype=X.dtype, ...)` to get the future behavour.\n",
      "  [AnnData(sparse.csr_matrix(a.shape), obs=a.obs) for a in all_adatas],\n",
      "GPU available: False, used: False\n",
      "TPU available: False, using: 0 TPU cores\n",
      "IPU available: False, using: 0 IPUs\n",
      "HPU available: False, using: 0 HPUs\n"
     ]
    },
    {
     "name": "stdout",
     "output_type": "stream",
     "text": [
      "Epoch 231/400:  58%|█████▊    | 231/400 [04:17<03:08,  1.12s/it, loss=0.255, v_num=1]\n",
      "Monitored metric validation_loss did not improve in the last 30 records. Best score: 0.243. Signaling Trainer to stop.\n"
     ]
    },
    {
     "name": "stderr",
     "output_type": "stream",
     "text": [
      "/home/ialahi/anaconda3/lib/python3.7/site-packages/scanpy/preprocessing/_simple.py:140: ImplicitModificationWarning: Trying to modify attribute `.obs` of view, initializing view as actual.\n",
      "  adata.obs['n_genes'] = number\n"
     ]
    }
   ],
   "source": [
    "out = []\n",
    "for file in os.listdir(sc_folder+'/'):\n",
    "    out.append(pp(sc_folder+'/' + file))"
   ]
  }
 ],
 "metadata": {
  "kernelspec": {
   "display_name": "Python 3",
   "language": "python",
   "name": "python3"
  },
  "language_info": {
   "codemirror_mode": {
    "name": "ipython",
    "version": 3
   },
   "file_extension": ".py",
   "mimetype": "text/x-python",
   "name": "python",
   "nbconvert_exporter": "python",
   "pygments_lexer": "ipython3",
   "version": "3.7.4"
  }
 },
 "nbformat": 4,
 "nbformat_minor": 2
}
